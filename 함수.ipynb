{
 "cells": [
  {
   "cell_type": "markdown",
   "metadata": {},
   "source": [
    "# 함수(function)\n",
    "\n",
    "## 1. 함수의 정의 : 일정한 작업을 수행하는 코드 블럭\n",
    "## 2. 함수의 장점\n",
    "    1) 반복적인 코드를 없애 주어 주변 코드의 길이를 짧게 만들어준다.\n",
    "    2) 프로그램의 유지보수를 쉽게 만들어준다.\n",
    "    \n",
    "## 3. 함수의 구조\n",
    "    def 함수이름(...):\n",
    "        문장\n",
    "        ...\n",
    "        [return]\n",
    "## 4. 함수의 종류\n",
    "    1) 내장 함수\n",
    "    2) 사용자 정의 함수\n",
    "        \n",
    "## 5. 함수의 호출방식\n",
    "    1) 인자가 없는 방식\n",
    "    2) 인자가 있는 방식\n",
    "    3) 변환 값이 있는 방식\n",
    "        * 분기문(함수를 강제 종료)"
   ]
  },
  {
   "cell_type": "code",
   "execution_count": 13,
   "metadata": {
    "scrolled": true
   },
   "outputs": [
    {
     "name": "stdout",
     "output_type": "stream",
     "text": [
      "-------------------------\n",
      "채팅 프로그램\n",
      "*************************\n",
      "1. 방 만들기\n",
      "2. 나가기\n",
      "-------------------------\n"
     ]
    }
   ],
   "source": [
    "def line(cnt, style):\n",
    "    for i in range(cnt):\n",
    "        print(style, end = '')\n",
    "    print()\n",
    "    \n",
    "line(25, '-')\n",
    "print('채팅 프로그램')\n",
    "line(25, '*')\n",
    "print('1. 방 만들기')\n",
    "print('2. 나가기')\n",
    "line(25, '-')"
   ]
  },
  {
   "cell_type": "code",
   "execution_count": 19,
   "metadata": {},
   "outputs": [
    {
     "name": "stdout",
     "output_type": "stream",
     "text": [
      "두수의 교환 : \n",
      "num1 : 10    num2 : 5\n"
     ]
    }
   ],
   "source": [
    "def swap(num1, num2):\n",
    "    temp = num1\n",
    "    num1 = num2\n",
    "    num2 = temp\n",
    "    return num1, num2\n",
    "\n",
    "print('두수의 교환 : ')\n",
    "num1, num2 =swap(5, 10)\n",
    "print('num1 : {}    num2 : {}'.format(num1, num2))"
   ]
  },
  {
   "cell_type": "code",
   "execution_count": 20,
   "metadata": {},
   "outputs": [
    {
     "name": "stdout",
     "output_type": "stream",
     "text": [
      "5 10\n"
     ]
    }
   ],
   "source": [
    "a = 10\n",
    "b = 5\n",
    "\n",
    "a, b = b, a\n",
    "print(a, b)"
   ]
  },
  {
   "cell_type": "markdown",
   "metadata": {},
   "source": [
    "### python 함수의 특징"
   ]
  },
  {
   "cell_type": "code",
   "execution_count": 33,
   "metadata": {},
   "outputs": [
    {
     "name": "stdout",
     "output_type": "stream",
     "text": [
      "홍길동 지역대표\n",
      "지역대표\n"
     ]
    }
   ],
   "source": [
    "# 변수의 생존범위\n",
    "player = '전국대표'\n",
    "\n",
    "def funcSoccer():\n",
    "    global player\n",
    "    name = '홍길동'\n",
    "    player = '지역대표'\n",
    "    print(name, player)\n",
    "\n",
    "funcSoccer()\n",
    "print(player)"
   ]
  },
  {
   "cell_type": "code",
   "execution_count": 46,
   "metadata": {},
   "outputs": [
    {
     "name": "stdout",
     "output_type": "stream",
     "text": [
      "func1 호출됨\n",
      "func2 호출됨\n",
      "a = 100, b = 200\n"
     ]
    }
   ],
   "source": [
    "a, b, c = 10, 20, 30\n",
    "\n",
    "def func1():\n",
    "    a = 100\n",
    "    b = 200\n",
    "    def func2():\n",
    "        #global a, b\n",
    "        print('func2 호출됨')\n",
    "        print('a = {}, b = {}'.format(a, b))\n",
    "    print('func1 호출됨')\n",
    "    func2()\n",
    "        \n",
    "func1()"
   ]
  },
  {
   "cell_type": "code",
   "execution_count": 67,
   "metadata": {},
   "outputs": [
    {
     "name": "stdout",
     "output_type": "stream",
     "text": [
      "안녕하세요~ 홍길동 님,\n",
      "안녕하세요~ AAA 님,\n",
      "이름을 입력하세요.\n",
      "안녕하세요~ 보노보노 님, 당신의 현재 나이는 7 입니다.\n",
      "안녕하세요~ None 님, 당신의 현재 나이는 5 입니다.\n",
      "안녕하세요~ 아기곰푸 님, 당신의 현재 나이는 5 입니다.\n"
     ]
    }
   ],
   "source": [
    "# default로 지정하는 방법, 인수를 키워드로 매칭\n",
    "\n",
    "def hello(name = 'AAA'):\n",
    "    print('안녕하세요~ %s 님,' % name)\n",
    "    \n",
    "def hello2(name = None):\n",
    "    if name == None:\n",
    "        print('이름을 입력하세요.')\n",
    "        return\n",
    "    print('안녕하세요~ %s 님,' % name)\n",
    "\n",
    "def hello3(age, name = None):          #default인자는 뒤에서 부터 채워야 함.     틀린예) def hello3(age = 5, name)\n",
    "    print('안녕하세요~ %s 님, 당신의 현재 나이는 %d 입니다.' % (name, age))\n",
    "    \n",
    "hello('홍길동')\n",
    "hello()\n",
    "hello2()\n",
    "hello3(7, '보노보노')\n",
    "hello3(5)\n",
    "hello3(name='아기곰푸', age=5)"
   ]
  },
  {
   "cell_type": "code",
   "execution_count": 89,
   "metadata": {},
   "outputs": [
    {
     "name": "stdout",
     "output_type": "stream",
     "text": [
      "보노보노 님, 환영합니다.\n",
      "아기곰푸 님, 환영합니다.\n",
      "6\n",
      "몸무게 50 키 160\n",
      "{'age': 18}\n",
      "월 화 수\n",
      "{'name': '보노보노', 'job': '직업이 머야?', 'age': '7'}\n",
      "{'name': '아아아...', 'job': '프로그래머'}\n"
     ]
    }
   ],
   "source": [
    "def greeting(names):\n",
    "    for name in names:\n",
    "        print(name, '님, 환영합니다.')\n",
    "\n",
    "def multisum(*args):\n",
    "    result = 0\n",
    "    for i in args:\n",
    "        result += i\n",
    "    print(result)\n",
    "    \n",
    "def func(w, h, **other):\n",
    "    print('몸무게 {} 키 {}'.format(w, h))\n",
    "    print(other)\n",
    "\n",
    "greeting(['보노보노', '아기곰푸'])\n",
    "\n",
    "multisum(1, 2, 3)\n",
    "\n",
    "func(50, 160, age = 18)\n",
    "\n",
    "#######################################################\n",
    "def myFunc(a, b, c):\n",
    "    print(a, b, c)\n",
    "\n",
    "tup = ('월', '화')\n",
    "dic = {'c': '수'}\n",
    "myFunc(*tup, **dic)\n",
    "\n",
    "#######################################################\n",
    "def set_person(name, job, age = ''):\n",
    "    person = {'name': name, 'job': job}\n",
    "    if age:\n",
    "        person['age'] = age\n",
    "    return person\n",
    "\n",
    "print(set_person('보노보노', '직업이 머야?', '7'))\n",
    "print(set_person('아아아...', '프로그래머'))"
   ]
  },
  {
   "cell_type": "code",
   "execution_count": 1,
   "metadata": {},
   "outputs": [
    {
     "name": "stdout",
     "output_type": "stream",
     "text": [
      "연산자 입력 : +\n",
      "첫번째 숫자 입력:1\n",
      "두번째 숫자 입력:2\n",
      "1 + 2 = 3\n",
      "연산자 입력 : x\n",
      "종료되었습니다.\n"
     ]
    }
   ],
   "source": [
    "# 전자계산기\n",
    "# 앞에서 만든 전자계산기를 반복문으로 처리, 연산자에 x를 입력하면 종료\n",
    "def calculation(num1, num2, operation):\n",
    "    if operation == '+':\n",
    "        result = num1 + num2\n",
    "    elif operation == '-':\n",
    "        result = num1 - num2\n",
    "    elif operation == '/':\n",
    "        result = num1 / num2\n",
    "    elif operation == '*':\n",
    "        result = num1 * num2\n",
    "    print('{} {} {} = {}'.format(num1, operation, num2, result))\n",
    "        \n",
    "while True:\n",
    "    operation = input('연산자 입력 : ')\n",
    "    \n",
    "    if operation == 'x':\n",
    "        print('종료되었습니다.')\n",
    "        break\n",
    "    else:\n",
    "        num1 = int(input('첫번째 숫자 입력:'))\n",
    "        num2 = int(input('두번째 숫자 입력:'))\n",
    "        calculation(num1, num2, operation)"
   ]
  },
  {
   "cell_type": "markdown",
   "metadata": {},
   "source": [
    "## 파이썬에서 제공하는 내장 함수들"
   ]
  },
  {
   "cell_type": "code",
   "execution_count": 23,
   "metadata": {},
   "outputs": [
    {
     "name": "stdout",
     "output_type": "stream",
     "text": [
      "True\n",
      "False\n",
      "True\n",
      "False\n",
      "(2, 1)\n",
      "(6.0, 0.09999999999999998)\n",
      "0 ,  홍길동\n",
      "1 ,  임꺽정\n",
      "(2, 1)\n",
      "8\n",
      "hia\n",
      "5 , 14\n",
      "사과\n",
      "배\n",
      "포도\n",
      "수박\n",
      "복숭아\n",
      "['life', 'is', 'too', 'short']\n",
      "['사과', '배', '포도', '수박', '복숭아']\n",
      "20\n",
      "20 40 60 80 [20, 40, 60, 80]\n",
      "[20, 40, 60, 80]\n",
      "[(1, 4, 7), (2, 5, 8), (3, 6, 9)]\n"
     ]
    }
   ],
   "source": [
    "print(all([1, 2, 3, -1, -2]))\n",
    "print(all([1, 2, 3, 0]))\n",
    "\n",
    "print(any([0, 1, 2]))\n",
    "print(any([0, '', None]))\n",
    "\n",
    "\n",
    "#------------------------------------------------------------\n",
    "# divmod(a, b) : a를 b로 나눈 몫과 나머지를 튜플 형태로 리턴\n",
    "#------------------------------------------------------------\n",
    "print(divmod(7, 3))\n",
    "print(divmod(1.3, 0.2))\n",
    "\n",
    "\n",
    "#-------------------------------------------------------------------------------------\n",
    "# enumerate() : 순서가 있는 자료형을 입력받아 인덱스값을 포함하는 enumerate 객체를 리턴\n",
    "#--------------------------------------------------------------------------------------\n",
    "for i, num in enumerate(['홍길동', '임꺽정']):\n",
    "    print(i, ', ', num)\n",
    "    \n",
    "\n",
    "#------------------------------------------------------------------\n",
    "# eval(표현식) : 표현식을 파이썬에서 실행 가능하게 만들어주는 역할\n",
    "#------------------------------------------------------------------\n",
    "# exp = input('수식을 입력 : ')\n",
    "# print(eval(exp))\n",
    "print(eval('divmod(7, 3)'))\n",
    "print(eval('3')  + eval('5'))\n",
    "print(eval(\"'hi' + 'a'\"))\n",
    "\n",
    "\n",
    "#---------------------------------------------------------------\n",
    "# join() : 리스트를 특정 구분자를 포함하여 하나의 문자열로 변환, <-> split()\n",
    "#---------------------------------------------------------------\n",
    "fruits = ['사과', '배', '포도', '수박', '복숭아']\n",
    "j1 = ','.join(fruits)\n",
    "print(len(fruits), ',', len(j1))\n",
    "\n",
    "j2 = '\\n'.join(fruits)\n",
    "print(j2)\n",
    "\n",
    "str = 'life is too short'\n",
    "print(str.split())\n",
    "print(j1.split(','))\n",
    "\n",
    "#---------------------------------------------------------------------------------\n",
    "# map(function, iterable) : 집합의 각 요소가 함수에 의해 수행된 결과를 묶어서 리턴\n",
    "#---------------------------------------------------------------------------------\n",
    "def calc(x):\n",
    "    return x*2\n",
    "\n",
    "a = calc(10)\n",
    "print(a)\n",
    "\n",
    "b = []\n",
    "for n in [10, 20, 30, 40]:\n",
    "    a = calc(n)\n",
    "    print(a, end = ' ')\n",
    "    b.append(a)\n",
    "print(b)\n",
    "\n",
    "print(list(map(calc, [10, 20, 30, 40])))\n",
    "\n",
    "#--------------------------------------------------------------\n",
    "# zip(iterable) : 동일한 개수로 이루어진 자료형을 묶어주는 역할\n",
    "#--------------------------------------------------------------\n",
    "list1 = [1, 2, 3]\n",
    "list2 = [4, 5, 6]\n",
    "list3 = [7, 8, 9, 10]\n",
    "print(list(zip(list1, list2, list3)))"
   ]
  },
  {
   "cell_type": "code",
   "execution_count": 11,
   "metadata": {},
   "outputs": [
    {
     "name": "stdout",
     "output_type": "stream",
     "text": [
      "3.7.0 (default, Jun 28 2018, 08:04:48) [MSC v.1912 64 bit (AMD64)]\n",
      "win32\n",
      "sys.version_info(major=3, minor=7, micro=0, releaselevel='final', serial=0)\n"
     ]
    },
    {
     "name": "stderr",
     "output_type": "stream",
     "text": [
      "새로운 버전으로 업그레이드 하세요."
     ]
    }
   ],
   "source": [
    "import sys\n",
    "\n",
    "dir(sys)\n",
    "print(sys.version)\n",
    "#sys.exit(0)\n",
    "\n",
    "print(sys.platform)\n",
    "print(sys.version_info)\n",
    "\n",
    "if sys.version_info < (3,7, 0):\n",
    "    sys.stderr.write('새로운 버전으로 업그레이드 하세요.')\n",
    "    exit(1)"
   ]
  },
  {
   "cell_type": "code",
   "execution_count": 43,
   "metadata": {},
   "outputs": [
    {
     "name": "stdout",
     "output_type": "stream",
     "text": [
      "2018-11-26\n",
      "2018 년 11 월 26 일\n",
      "2018-11-26 11:17:31.525581\n",
      "어제 : 2018-11-25\n",
      "일주일 전: 2018-11-19\n",
      "8시간 전: 2018-11-26 03:17:31.525581\n",
      "11/26/2018\n",
      "2018-11-26 11:17:31\n",
      "<class 'datetime.datetime'>\n",
      "<class 'str'>\n",
      "<class 'datetime.datetime'>\n"
     ]
    }
   ],
   "source": [
    "from datetime import date, datetime, timedelta\n",
    "\n",
    "#오늘 날짜 구하기\n",
    "today = date.today()\n",
    "print(today)\n",
    "print(today.year, '년', today.month, '월', today.day, '일')\n",
    "\n",
    "# 시간\n",
    "cur_today = datetime.today()\n",
    "print(cur_today)\n",
    "\n",
    "# 날짜와 시간 계산\n",
    "days = timedelta(days = -1)\n",
    "print('어제 : {}'.format(today + days))\n",
    "\n",
    "week = timedelta(days = -7)\n",
    "print('일주일 전: {}'.format(today + week))\n",
    "\n",
    "myhours = timedelta(hours=-8)\n",
    "print('8시간 전: {}'.format(cur_today + myhours))\n",
    "\n",
    "# 날짜 출력 형식\n",
    "print('{}'.format(today.strftime('%m/%d/%Y')))\n",
    "print('{}'.format(cur_today.strftime('%Y-%m-%d %H:%M:%S')))\n",
    "\n",
    "# 형식 변환\n",
    "print(type(cur_today))\n",
    "d = cur_today.strftime('%Y-%m-%d')\n",
    "print(type(d))\n",
    "\n",
    "\n",
    "dateStr = '2018-11-26 12:05:11'\n",
    "mydate = datetime.strptime(dateStr, '%Y-%m-%d %H:%M:%S')\n",
    "print(type(mydate))"
   ]
  },
  {
   "cell_type": "code",
   "execution_count": null,
   "metadata": {},
   "outputs": [],
   "source": []
  }
 ],
 "metadata": {
  "kernelspec": {
   "display_name": "Python 3",
   "language": "python",
   "name": "python3"
  },
  "language_info": {
   "codemirror_mode": {
    "name": "ipython",
    "version": 3
   },
   "file_extension": ".py",
   "mimetype": "text/x-python",
   "name": "python",
   "nbconvert_exporter": "python",
   "pygments_lexer": "ipython3",
   "version": "3.7.0"
  }
 },
 "nbformat": 4,
 "nbformat_minor": 2
}
