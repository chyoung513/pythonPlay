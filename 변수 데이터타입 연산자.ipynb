{
 "cells": [
  {
   "cell_type": "markdown",
   "metadata": {},
   "source": [
    "# 변수\n",
    "\n",
    "### 정의: 사용할 데이터를 임시로 저장하는 공간(메모리RAM)\n",
    "### 특징\n",
    "    1. 값을 저장하는 상자\n",
    "    2. 메모리에 저장\n",
    "    3. 저장된 값(data)은 절대 변경 불가 (값을 변경하는 것이 아닌 주소값을 바꾸어서 저장)\n",
    "    4. 값을 하나만 저장 (기본 데이터 타입)\n",
    "    5. 데이터를 보관하는 기능만 가지고 있다."
   ]
  },
  {
   "cell_type": "code",
   "execution_count": 5,
   "metadata": {},
   "outputs": [
    {
     "name": "stdout",
     "output_type": "stream",
     "text": [
      "기본급:  1000 원\n"
     ]
    }
   ],
   "source": [
    "pay = 1000\n",
    "print('기본급: ',pay,'원')"
   ]
  },
  {
   "cell_type": "code",
   "execution_count": 18,
   "metadata": {},
   "outputs": [
    {
     "name": "stdout",
     "output_type": "stream",
     "text": [
      "1000\n",
      "76237392\n",
      "63139728\n"
     ]
    },
    {
     "data": {
      "text/plain": [
       "'hello'"
      ]
     },
     "execution_count": 18,
     "metadata": {},
     "output_type": "execute_result"
    }
   ],
   "source": [
    "var1 = 1000    #메로리의 주소값을 저장. 즉 1000이라는 값을 담고 있는 메모리의 주소값을 저장함\n",
    "print(var1)\n",
    "print(id(var1))\n",
    "var1 = 3.1\n",
    "print(id(var1))\n",
    "var1 = 'hello'\n",
    "var1"
   ]
  },
  {
   "cell_type": "markdown",
   "metadata": {},
   "source": [
    "## 데이터 타입\n",
    "    1. 기본 데이터 타입 <-> 사용자 정의 데이터 타입\n",
    "        + int, float, str, bool\n",
    "    2. 집합 자료형\n",
    "        + list\n",
    "            - 임의의 객체를 순차적으로 저장\n",
    "            - 각 값에 대해 인덱스 부여\n",
    "            - 변경 가능\n",
    "            - [] (데이터를 []로 묶어줌)\n",
    "        + tuple\n",
    "            - 리스트와 거의 유사하지만 값을 변경할 수 없음 (immutable)\n",
    "            - 각 값에 대해 인덱스 부여\n",
    "            - ()\n",
    "        + dictionary\n",
    "            - 정수형 인덱스가 아닌 키를 이용하여 값을 저장 및 조회하는 자료 구조\n",
    "            - 순서의 의미가 없음\n",
    "            - {}"
   ]
  },
  {
   "cell_type": "code",
   "execution_count": 95,
   "metadata": {},
   "outputs": [
    {
     "name": "stdout",
     "output_type": "stream",
     "text": [
      "79706160\n",
      "79706096\n",
      "True\n",
      "이것은 \n",
      "여러줄로 \n",
      "작성할 수 있습니다. 기억하세요!!\n",
      "<class 'bool'>\n",
      "True  .  False\n"
     ]
    }
   ],
   "source": [
    "var1 = 1000\n",
    "print(id(var1))\n",
    "\n",
    "var2 = 1000\n",
    "print(id(var2))\n",
    "print(var1 == var2)\n",
    "\n",
    "var4 = '''이것은 \n",
    "여러줄로 \n",
    "작성할 수 있습니다. 기억하세요!!'''\n",
    "print(var4)\n",
    "\n",
    "var5, var6 = True, False\n",
    "print(type(var5))\n",
    "print(var5, \" . \", var6)"
   ]
  },
  {
   "cell_type": "code",
   "execution_count": 131,
   "metadata": {},
   "outputs": [
    {
     "name": "stdout",
     "output_type": "stream",
     "text": [
      "[1, 3, 5, 7, 9]\n",
      "1 ,  3\n",
      "9 , 7 , 5\n",
      "['a', 'b', 'c'] Choose b Choose c\n",
      "메모리 주소가 동일해? True\n",
      "10\n",
      "[10, 2, 3, 4, 5]\n",
      "a[0]: 1 \n",
      "b[0]: 10\n",
      "[1, 2, 3]\n",
      "[3, 4, 5]\n",
      "[1, 2, 3, 4, 5, 6]\n",
      "[1, 2, 3, 1, 2, 3, 1, 2, 3]\n",
      "[1, 2, 3]hi\n",
      "['a', 'b', 'c', 2, 3]\n",
      "[['a', 'b', 'c'], 2, 3]\n",
      "[1, 2, 3, 4, [5, 5]]\n",
      "0번째 index에 4를 추가하면? [4, 1, 2, 3]\n",
      "[1]\n",
      "맨 뒤에 위치한 요소를 삭제하면? [1, 2, 3]\n",
      "1번째 위치한 요소부터 마지막까지 삭제하면? [1]\n",
      "[1, 2, 1, 2, 3]\n",
      "[2, 1, 2, 3]\n",
      "[2, 1, 2]\n",
      "3\n",
      "['a', 'b', 'c', 'd', 'e', 'f']\n",
      "역수로 정렬하면? ['f', 'e', 'd', 'c', 'b', 'a']\n",
      "list내 b의 인덱스를 알려줘! (1) 이야\n",
      "list a 중 1의 갯수는? 2\n",
      "list a의 길이는? 4\n",
      "a: 10, b: 20, c: 30\n",
      "3, 1, 2\n",
      "variable a after extend [1, 2, 3, 4, 5]\n",
      "a변수가 10 포함하니? True\n"
     ]
    }
   ],
   "source": [
    "# 집합 자료형(list)\n",
    "a = [1, 3, 5, 7, 9] #변수a에는 시작주소가 저장됨\n",
    "print(a)\n",
    "print(a[0], ', ', a[1])\n",
    "print(a[-1], ',', a[-2], ',', a[-3])\n",
    "\n",
    "#list 포함(중첩)\n",
    "a = [1, 2, 3, ['a', 'b', 'c',]]\n",
    "print(a[3], \"Choose\", a[3][1], \"Choose\", a[-1][-1])\n",
    "\n",
    "#list의 복사(얕은 복사:주소만 복사)\n",
    "a = [1, 2, 3, 4, 5]\n",
    "b = a\n",
    "print('메모리 주소가 동일해?', id(a) == id(b))\n",
    "\n",
    "a[0] = 10\n",
    "print(b[0])\n",
    "\n",
    "#list의 복사(깊은 복사)\n",
    "b = a[:]\n",
    "print(b)\n",
    "a[0] = 1\n",
    "print('a[0]:', a[0], '\\nb[0]:', b[0])\n",
    "\n",
    "#list의 slicing\n",
    "a = [1, 2, 3, 4, 5]\n",
    "print(a[0:3])\n",
    "print(a[2:])\n",
    "\n",
    "#list의 연결\n",
    "a = [1, 2, 3]\n",
    "b = [4, 5, 6]\n",
    "c = a + b\n",
    "print(c)\n",
    "#list의 반복\n",
    "c = a*3\n",
    "print(c)\n",
    "\n",
    "#숫자와 문자의 연결\n",
    "a = [1, 2, 3]\n",
    "print(str(a) + 'hi')\n",
    "\n",
    "#list의 수정, 추가(append)\n",
    "a = [1, 2, 3]\n",
    "a[0:1] = ['a', 'b', 'c']\n",
    "print(a)\n",
    "\n",
    "a = [1, 2, 3]\n",
    "a[0] = ['a', 'b', 'c']\n",
    "print(a)\n",
    "\n",
    "a = [1, 2, 3]\n",
    "a.append(4)\n",
    "a.append([5, 5])\n",
    "print(a)\n",
    "\n",
    "#원하는 위치에 삽입(추가)\n",
    "a = [1, 2, 3]\n",
    "a.insert(0, 4)       #param(index, value):\n",
    "print('0번째 index에 4를 추가하면?', a)\n",
    "\n",
    "#삭제\n",
    "a = [1, 2, 3]\n",
    "a[1: 3] = []\n",
    "print(a)\n",
    "\n",
    "a = [1, 2, 3, 4]\n",
    "del(a[-1])\n",
    "print('맨 뒤에 위치한 요소를 삭제하면?', a)\n",
    "del(a[1:])\n",
    "print('1번째 위치한 요소부터 마지막까지 삭제하면?',a)\n",
    "\n",
    "a = [1, 2, 3, 1, 2, 3]\n",
    "a.remove(3)    #값으로 삭제\n",
    "print(a)\n",
    "\n",
    "del a[0]\n",
    "print(a)\n",
    "\n",
    "p1 = a.pop()\n",
    "print(a)\n",
    "print(p1)\n",
    "\n",
    "#정렬\n",
    "a = [4, 1, 3, 2, 0]\n",
    "a = ['f', 'b', 'a', 'd', 'c', 'e']\n",
    "a.sort()\n",
    "print(a)\n",
    "\n",
    "a.reverse()\n",
    "print('역수로 정렬하면?', a)\n",
    "\n",
    "#인덱스 반환\n",
    "a = ['a', 'b', 'c', 'd']\n",
    "print('list내 b의 인덱스를 알려줘! ({}) 이야'.format(a.index('b')))    #list내 'b'요소의 index를 반환\n",
    "\n",
    "#갯수 세기\n",
    "a = [1, 2, 3, 1]\n",
    "print('list a 중 1의 갯수는?', a.count(1))\n",
    "print('list a의 길이는?', len(a))\n",
    "\n",
    "#값 할당\n",
    "a = 10\n",
    "b = 20\n",
    "c = 30\n",
    "a = b = c = 40                                 #여러개 변수에 동일한 값 할당\n",
    "a, b, c = 10, 20, 30\n",
    "print('a: {}, b: {}, c: {}'.format(a, b, c))   #{}에 데이터가 들어가게 됨\n",
    "\n",
    "data = [1, 2, 3]\n",
    "a, b, c = data\n",
    "print('{2}, {0}, {1}'.format(a, b, c))         #{}안에 index를 지정함으로 출력순을 정할 수 있다.\n",
    "\n",
    "#확장의 개념\n",
    "a = [1, 2, 3]\n",
    "a.extend([4, 5])\n",
    "print('variable a after extend {}'.format(a))\n",
    "\n",
    "#in과 not in\n",
    "a = ['a', 'p', 'p', 'l', 'e', 10]\n",
    "print('a변수가 10 포함하니? {}'.format(10 in a))"
   ]
  },
  {
   "cell_type": "code",
   "execution_count": 114,
   "metadata": {},
   "outputs": [
    {
     "name": "stdout",
     "output_type": "stream",
     "text": [
      "<class 'tuple'>\n",
      "1\n",
      "(1, 2, 'a', 'b', 3, 4)\n",
      "(1, 2, 'a', 'b', 3, 4, 1, 2, 'a', 'b', 3, 4)\n",
      "1, 2, a, b, 3, 4\n",
      "mylist [1, 2, 3]을 튜플로 변환하면?(1, 2, 3)\n"
     ]
    }
   ],
   "source": [
    "# 집합 자료형(Tuple)\n",
    "t1 = (1, 2, 'a', 'b')\n",
    "print(type(t1))\n",
    "print(t1[0])\n",
    "# t1[0] = 10  에레!!!변경불가하다\n",
    "# del(t1[0])  에러!!!변경불가하기 때문에 당연히 삭제도 안된다.\n",
    "\n",
    "t2 = (3, 4)\n",
    "t3 = t1 + t2\n",
    "print(t3)       #t1에 3,4를 추가함이 아닌, (1, 2, 'a', 'b', 3, 4)로 구성된 data가 메로리에 새로 생성됨\n",
    "print(t3*2)\n",
    "\n",
    "a, b, c, d, e, f = t3\n",
    "print('{}, {}, {}, {}, {}, {}'.format(a, b, c, d, e, f))\n",
    "\n",
    "# tuple과 list의 변환\n",
    "mylist = [1, 2, 3]\n",
    "mytuple = ['x', 'y', 'z']\n",
    "\n",
    "print('mylist {}을 튜플로 변환하면? {}'.format(mylist, tuple(mylist)))"
   ]
  },
  {
   "cell_type": "code",
   "execution_count": 147,
   "metadata": {},
   "outputs": [
    {
     "name": "stdout",
     "output_type": "stream",
     "text": [
      "<class 'dict'>\n",
      "{1: 'a', 2: 'b'}\n",
      "이름:  홍길동\n",
      "연락처:  010-8000-3333\n",
      "key만 모으기:  dict_keys(['name', 'phone', 'birth'])\n",
      "['name', 'phone', 'birth']\n",
      "('name', 'phone', 'birth')\n",
      "value만 모으기:  dict_values(['홍길동', '010-8000-3333', '950125'])\n",
      "key, value쌍:  dict_items([('name', '홍길동'), ('phone', '010-8000-3333'), ('birth', '950125')])\n",
      "dict_items 객체를 list로 변환하면? [('name', '홍길동'), ('phone', '010-8000-3333'), ('birth', '950125')]\n"
     ]
    }
   ],
   "source": [
    "# 집합 자료형(dictionary)\n",
    "\n",
    "a = {1: 'a'}\n",
    "print(type(a))\n",
    "\n",
    "#요소(item) 추가\n",
    "a[2] = 'b'\n",
    "print(a)\n",
    "\n",
    "data = {'name': '홍길동', 'phone': '010-8000-3333', 'birth': '950125'}\n",
    "print('이름: ', data['name'])\n",
    "print('연락처: ',data.get('phone'))     #key로 value 얻기\n",
    "\n",
    "print('key만 모으기: ', data.keys())\n",
    "print(list(data.keys()))\n",
    "print(tuple(data.keys()))\n",
    "\n",
    "print('value만 모으기: ', data.values())\n",
    "\n",
    "print('key, value쌍: ', data.items())\n",
    "\n",
    "list1 = list(data.items())\n",
    "print('dict_items 객체를 list로 변환하면?', list1)"
   ]
  },
  {
   "cell_type": "code",
   "execution_count": null,
   "metadata": {},
   "outputs": [],
   "source": []
  }
 ],
 "metadata": {
  "kernelspec": {
   "display_name": "Python 3",
   "language": "python",
   "name": "python3"
  },
  "language_info": {
   "codemirror_mode": {
    "name": "ipython",
    "version": 3
   },
   "file_extension": ".py",
   "mimetype": "text/x-python",
   "name": "python",
   "nbconvert_exporter": "python",
   "pygments_lexer": "ipython3",
   "version": "3.7.0"
  }
 },
 "nbformat": 4,
 "nbformat_minor": 2
}
