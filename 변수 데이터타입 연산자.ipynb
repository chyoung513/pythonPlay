{
 "cells": [
  {
   "cell_type": "markdown",
   "metadata": {},
   "source": [
    "# 변수\n",
    "\n",
    "### 정의: 사용할 데이터를 임시로 저장하는 공간(메모리RAM)\n",
    "### 특징\n",
    "    1. 값을 저장하는 상자\n",
    "    2. 메모리에 저장\n",
    "    3. 저장된 값(data)은 절대 변경 불가 (값을 변경하는 것이 아닌 주소값을 바꾸어서 저장)"
   ]
  },
  {
   "cell_type": "code",
   "execution_count": 5,
   "metadata": {},
   "outputs": [
    {
     "name": "stdout",
     "output_type": "stream",
     "text": [
      "기본급:  1000 원\n"
     ]
    }
   ],
   "source": [
    "pay = 1000\n",
    "print('기본급: ',pay,'원')"
   ]
  },
  {
   "cell_type": "code",
   "execution_count": 18,
   "metadata": {},
   "outputs": [
    {
     "name": "stdout",
     "output_type": "stream",
     "text": [
      "1000\n",
      "76237392\n",
      "63139728\n"
     ]
    },
    {
     "data": {
      "text/plain": [
       "'hello'"
      ]
     },
     "execution_count": 18,
     "metadata": {},
     "output_type": "execute_result"
    }
   ],
   "source": [
    "var1 = 1000    #메로리의 주소값을 저장함. 즉 1000이라는 값을 담고 있는 메모리의 주소값을 저장함\n",
    "print(var1)\n",
    "print(id(var1))\n",
    "var1 = 3.1\n",
    "print(id(var1))\n",
    "var1 = 'hello'\n",
    "var1"
   ]
  },
  {
   "cell_type": "markdown",
   "metadata": {},
   "source": [
    "## 데이터 타입\n",
    "    1. 기본 데이터 타입 <-> 사용자 정의 데이터 타입\n",
    "        + int, float, str, bool\n",
    "    2. 집합 자료형\n",
    "        + list\n",
    "            - 임의의 객체를 순차적으로 저장\n",
    "            - 각 값에 대해 인덱스 부여\n",
    "            - 변경 가능\n",
    "            - [] (데이터를 []로 묶어줌)\n",
    "        + tuple\n",
    "            - 리스트와 거의 유사하지만 값을 변경할 수 없음 (immutable)\n",
    "            - 각 값에 대해 인덱스 부여\n",
    "            - ()\n",
    "        + dictionary"
   ]
  },
  {
   "cell_type": "code",
   "execution_count": 2,
   "metadata": {},
   "outputs": [
    {
     "name": "stdout",
     "output_type": "stream",
     "text": [
      "76241104\n",
      "76240496\n",
      "True\n",
      "이것은 \n",
      "여러줄로 \n",
      "작성할 수 있습니다\n",
      "<class 'bool'>\n",
      "True  .  False\n"
     ]
    }
   ],
   "source": [
    "var1 = 1000\n",
    "print(id(var1))\n",
    "\n",
    "var2 = 1000\n",
    "print(id(var2))\n",
    "print(var1 == var2)\n",
    "\n",
    "var4 = '''이것은 \n",
    "여러줄로 \n",
    "작성할 수 있습니다'''\n",
    "print(var4)\n",
    "\n",
    "var5, var6 = True, False\n",
    "print(type(var5))\n",
    "print(var5, \" . \", var6)"
   ]
  },
  {
   "cell_type": "code",
   "execution_count": 41,
   "metadata": {},
   "outputs": [
    {
     "name": "stdout",
     "output_type": "stream",
     "text": [
      "['a', 'b', 'c'] Choose b Choose c\n",
      "주소가 동일한가? True\n",
      "10\n",
      "[10, 2, 3, 4, 5]\n",
      "a[0]: 1 \n",
      "b[0]: 10\n",
      "[1, 2, 3]\n",
      "[3, 4, 5]\n",
      "[1, 2, 3, 4, 5, 6]\n",
      "[1, 2, 3, 1, 2, 3, 1, 2, 3]\n",
      "[1, 2, 3]hi\n",
      "['a', 'b', 'c', 2, 3]\n",
      "[['a', 'b', 'c'], 2, 3]\n",
      "[1, 2, 3, 4, [5, 5]]\n",
      "[1]\n",
      "[1, 2, 3]\n",
      "[1]\n",
      "[1, 2, 1, 2, 3]\n"
     ]
    }
   ],
   "source": [
    "# 집합 자료형(list)\n",
    "# a = [1, 3, 5, 7, 9] #변수a에는 시작주소가 저장됨\n",
    "# print(a)\n",
    "# print(a[0], ', ', a[1])\n",
    "# print(a[-1], ',', a[-2], ',', a[-3])\n",
    "\n",
    "#list 포함(중첩)\n",
    "a = [1, 2, 3, ['a', 'b', 'c',]]\n",
    "print(a[3], \"Choose\", a[3][1], \"Choose\", a[-1][-1])\n",
    "\n",
    "#list의 복사(얕은 복사:주소만 복사)\n",
    "a = [1, 2, 3, 4, 5]\n",
    "b = a\n",
    "print('주소가 동일한가?', id(a) == id(b))\n",
    "\n",
    "a[0] = 10\n",
    "print(b[0])\n",
    "\n",
    "#list의 복사(깊은 복사)\n",
    "b = a[:]\n",
    "print(b)\n",
    "a[0] = 1\n",
    "print('a[0]:', a[0], '\\nb[0]:', b[0])\n",
    "\n",
    "#list의 slicing\n",
    "a = [1, 2, 3, 4, 5]\n",
    "print(a[0:3])\n",
    "print(a[2:])\n",
    "\n",
    "#list의 연결\n",
    "a = [1, 2, 3]\n",
    "b = [4, 5, 6]\n",
    "c = a + b\n",
    "print(c)\n",
    "#list의 반복\n",
    "c = a*3\n",
    "print(c)\n",
    "\n",
    "#숫자와 문자의 연결\n",
    "a = [1, 2, 3]\n",
    "print(str(a) + 'hi')\n",
    "\n",
    "#list의 수정, 추가(append)\n",
    "a = [1, 2, 3]\n",
    "a[0:1] = ['a', 'b', 'c']\n",
    "print(a)\n",
    "\n",
    "a = [1, 2, 3]\n",
    "a[0] = ['a', 'b', 'c']\n",
    "print(a)\n",
    "\n",
    "a = [1, 2, 3]\n",
    "a.append(4)\n",
    "a.append([5, 5])\n",
    "print(a)\n",
    "\n",
    "#삭제\n",
    "a = [1, 2, 3]\n",
    "a[1: 3] = []\n",
    "print(a)\n",
    "\n",
    "a = [1, 2, 3, 4]\n",
    "del(a[-1])\n",
    "print(a)\n",
    "del(a[1:])\n",
    "print(a)\n",
    "\n",
    "a = [1, 2, 3, 1, 2, 3]\n",
    "a.remove(3)\n",
    "print(a)\n"
   ]
  },
  {
   "cell_type": "code",
   "execution_count": null,
   "metadata": {},
   "outputs": [],
   "source": []
  }
 ],
 "metadata": {
  "kernelspec": {
   "display_name": "Python 3",
   "language": "python",
   "name": "python3"
  },
  "language_info": {
   "codemirror_mode": {
    "name": "ipython",
    "version": 3
   },
   "file_extension": ".py",
   "mimetype": "text/x-python",
   "name": "python",
   "nbconvert_exporter": "python",
   "pygments_lexer": "ipython3",
   "version": "3.7.0"
  }
 },
 "nbformat": 4,
 "nbformat_minor": 2
}
