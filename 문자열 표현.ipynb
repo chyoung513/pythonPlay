{
 "cells": [
  {
   "cell_type": "code",
   "execution_count": 3,
   "metadata": {},
   "outputs": [
    {
     "name": "stdout",
     "output_type": "stream",
     "text": [
      "1 2 3\n"
     ]
    }
   ],
   "source": [
    "# 줄바꿈 없이 한줄에 출력하기: end=' '\n",
    "print(1, 2, end=' ')\n",
    "print(3)"
   ]
  },
  {
   "cell_type": "code",
   "execution_count": 17,
   "metadata": {},
   "outputs": [
    {
     "name": "stdout",
     "output_type": "stream",
     "text": [
      "   123.457\n",
      "  1.23e+02\n",
      "     12345\n",
      "서식에 의한 자료 출력 문자열 5 21.300000\n",
      "이름: 삼다수 500ML, 가격: 900\n"
     ]
    }
   ],
   "source": [
    "# 출력서식 기호 사용\n",
    "\n",
    "# 방법1: format(실수, '전체자릿수.소수이하자릿수<서식기호>')\n",
    "print(format(123.45678, '10.3f'))\n",
    "print(format(123.45678, '10.3'))\n",
    "print(format(12345, '10d'))\n",
    "\n",
    "# 방법2: print(메시지와 출력 서식%(출력자료))\n",
    "print('서식에 의한 자료 출력 %s %d %f' % ('문자열', 5, 21.3))\n",
    "\n",
    "# 방법3: {매핑순서} 기호를 사용\n",
    "print('이름: {}, 가격: {}'.format('삼다수 500ML', '900'))"
   ]
  },
  {
   "cell_type": "code",
   "execution_count": 3,
   "metadata": {
    "scrolled": true
   },
   "outputs": [
    {
     "name": "stdout",
     "output_type": "stream",
     "text": [
      "이름을 입력:홍길동\n",
      "홍길동\n",
      "나이 입력:25\n",
      "20대\n"
     ]
    }
   ],
   "source": [
    "# 키보드로 자료 입력받기\n",
    "name = input('이름을 입력:')\n",
    "print(name)\n",
    "\n",
    "age = int(input('나이 입력:'))\n",
    "print(str(age//10*10) + '대')"
   ]
  }
 ],
 "metadata": {
  "kernelspec": {
   "display_name": "Python 3",
   "language": "python",
   "name": "python3"
  },
  "language_info": {
   "codemirror_mode": {
    "name": "ipython",
    "version": 3
   },
   "file_extension": ".py",
   "mimetype": "text/x-python",
   "name": "python",
   "nbconvert_exporter": "python",
   "pygments_lexer": "ipython3",
   "version": "3.7.0"
  }
 },
 "nbformat": 4,
 "nbformat_minor": 2
}
