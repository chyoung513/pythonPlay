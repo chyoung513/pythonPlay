{
 "cells": [
  {
   "cell_type": "markdown",
   "metadata": {},
   "source": [
    "# 예외처리\n",
    "    1. 자연스러운 에러 메서지 출력\n",
    "    2. 프로그램의 비정상적인 종료 방지\n",
    "    \n",
    "### 문법\n",
    "    \n",
    "    try:\n",
    "        ...\n",
    "    except 예외처리 클래스:\n",
    "        예외가 발생했을 때 실행될 내용\n",
    "    finally:\n",
    "        예외 발생과 상관없이 반드시 수행할 구문"
   ]
  },
  {
   "cell_type": "code",
   "execution_count": 17,
   "metadata": {},
   "outputs": [
    {
     "name": "stdout",
     "output_type": "stream",
     "text": [
      "0으로 나누면 안됩니다. division by zero\n",
      "무조건 실행됩니다.\n"
     ]
    },
    {
     "name": "stderr",
     "output_type": "stream",
     "text": [
      "Traceback (most recent call last):\n",
      "  File \"<ipython-input-17-568d84432e97>\", line 4, in <module>\n",
      "    a = 10/0\n",
      "ZeroDivisionError: division by zero\n"
     ]
    }
   ],
   "source": [
    "import traceback\n",
    "\n",
    "try:\n",
    "    a = 10/0\n",
    "    print('실행되나요?')\n",
    "\n",
    "\n",
    "except ArithmeticError as e:                  #ZeroDivisionError\n",
    "    print('0으로 나누면 안됩니다.', e)\n",
    "    traceback.print_exc()\n",
    "except IndexError as e:\n",
    "    print('존재하지 않는 인덱스입니다.', e)\n",
    "finally:\n",
    "    print('무조건 실행됩니다.')"
   ]
  },
  {
   "cell_type": "code",
   "execution_count": 25,
   "metadata": {},
   "outputs": [
    {
     "name": "stdout",
     "output_type": "stream",
     "text": [
      "덧셈 결과...\n",
      "나눗셈 결과\n",
      "산술연산 에러입니다.\n"
     ]
    }
   ],
   "source": [
    "try:\n",
    "    x = [1, 2, 3]\n",
    "    #print(x[5])\n",
    "    \n",
    "    print('덧셈 결과...')\n",
    "    result = '2' + 2\n",
    "    \n",
    "    print('나눗셈 결과')\n",
    "    result = 4/0\n",
    "except IndexError:\n",
    "    print('인덱스 접근이 잘 못되었습니다.')\n",
    "except TypeError:\n",
    "    print('형식이 맞지 않습니다')\n",
    "except ZeroDivisionError:\n",
    "    print('0으로 나누셨습니다.')\n",
    "except ArithmeticError:\n",
    "    print('산술연산 에러입니다.')\n",
    "except Exception as e:\n",
    "    print('에러 발생',e)"
   ]
  },
  {
   "cell_type": "code",
   "execution_count": 33,
   "metadata": {},
   "outputs": [
    {
     "name": "stdout",
     "output_type": "stream",
     "text": [
      "프로그램 시작\n",
      "음수로 나눌 수 없습니다.\n"
     ]
    }
   ],
   "source": [
    "def positiveDivide(a, b):\n",
    "    if b < 0:\n",
    "        raise NegativeDivisionError\n",
    "    return a/b\n",
    "\n",
    "        \n",
    "class NegativeDivisionError(Exception):\n",
    "    pass\n",
    "\n",
    "    \n",
    "def main():\n",
    "    print('프로그램 시작')\n",
    "    try:\n",
    "        positiveDivide(10, -20)\n",
    "    except NegativeDivisionError:\n",
    "        print('음수로 나눌 수 없습니다.')\n",
    "    except Exception:\n",
    "        print('기타 에러 발생')\n",
    "\n",
    "if __name__ == '__main__':\n",
    "    main()"
   ]
  },
  {
   "cell_type": "code",
   "execution_count": null,
   "metadata": {},
   "outputs": [],
   "source": []
  }
 ],
 "metadata": {
  "kernelspec": {
   "display_name": "Python 3",
   "language": "python",
   "name": "python3"
  },
  "language_info": {
   "codemirror_mode": {
    "name": "ipython",
    "version": 3
   },
   "file_extension": ".py",
   "mimetype": "text/x-python",
   "name": "python",
   "nbconvert_exporter": "python",
   "pygments_lexer": "ipython3",
   "version": "3.7.0"
  }
 },
 "nbformat": 4,
 "nbformat_minor": 2
}
