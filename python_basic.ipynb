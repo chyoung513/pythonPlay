{
 "cells": [
  {
   "cell_type": "code",
   "execution_count": 1,
   "metadata": {},
   "outputs": [
    {
     "data": {
      "text/html": [
       "<div>\n",
       "<style scoped>\n",
       "    .dataframe tbody tr th:only-of-type {\n",
       "        vertical-align: middle;\n",
       "    }\n",
       "\n",
       "    .dataframe tbody tr th {\n",
       "        vertical-align: top;\n",
       "    }\n",
       "\n",
       "    .dataframe thead th {\n",
       "        text-align: right;\n",
       "    }\n",
       "</style>\n",
       "<table border=\"1\" class=\"dataframe\">\n",
       "  <thead>\n",
       "    <tr style=\"text-align: right;\">\n",
       "      <th></th>\n",
       "      <th>Unnamed: 1</th>\n",
       "      <th>선수 A</th>\n",
       "      <th>선수 B</th>\n",
       "    </tr>\n",
       "    <tr>\n",
       "      <th>선수\n",
       "성적별 인센티브</th>\n",
       "      <th></th>\n",
       "      <th></th>\n",
       "      <th></th>\n",
       "    </tr>\n",
       "  </thead>\n",
       "  <tbody>\n",
       "    <tr>\n",
       "      <th>NaN</th>\n",
       "      <td>NaN</td>\n",
       "      <td>성적 확률</td>\n",
       "      <td>성적 확률</td>\n",
       "    </tr>\n",
       "    <tr>\n",
       "      <th>우승</th>\n",
       "      <td>300.0</td>\n",
       "      <td>0.58</td>\n",
       "      <td>0.65</td>\n",
       "    </tr>\n",
       "    <tr>\n",
       "      <th>순위 상승</th>\n",
       "      <td>150.0</td>\n",
       "      <td>0.87</td>\n",
       "      <td>0.51</td>\n",
       "    </tr>\n",
       "    <tr>\n",
       "      <th>성적 동일</th>\n",
       "      <td>0.0</td>\n",
       "      <td>0.55</td>\n",
       "      <td>0.45</td>\n",
       "    </tr>\n",
       "    <tr>\n",
       "      <th>성적 하락</th>\n",
       "      <td>-100.0</td>\n",
       "      <td>0.05</td>\n",
       "      <td>0.05</td>\n",
       "    </tr>\n",
       "    <tr>\n",
       "      <th>기대값</th>\n",
       "      <td>NaN</td>\n",
       "      <td>299.5</td>\n",
       "      <td>266.5</td>\n",
       "    </tr>\n",
       "    <tr>\n",
       "      <th>기대값의 분산</th>\n",
       "      <td>NaN</td>\n",
       "      <td>76760</td>\n",
       "      <td>46327.4</td>\n",
       "    </tr>\n",
       "  </tbody>\n",
       "</table>\n",
       "</div>"
      ],
      "text/plain": [
       "                                      Unnamed: 1   선수 A     선수 B\n",
       "                        선수\\n성적별 인센티브                            \n",
       "NaN                                          NaN  성적 확률    성적 확률\n",
       "우승                                         300.0   0.58     0.65\n",
       "순위 상승                                      150.0   0.87     0.51\n",
       "성적 동일                                        0.0   0.55     0.45\n",
       "성적 하락                                     -100.0   0.05     0.05\n",
       "기대값                                          NaN  299.5    266.5\n",
       "기대값의 분산                                      NaN  76760  46327.4"
      ]
     },
     "execution_count": 1,
     "metadata": {},
     "output_type": "execute_result"
    }
   ],
   "source": [
    "import pandas as pd\n",
    "import numpy as np\n",
    "\n",
    "ex = pd.read_excel(\"data/basic/expected.xlsx\", index_col = 0, usecols = \"B:E\")\n",
    "ex"
   ]
  },
  {
   "cell_type": "code",
   "execution_count": 2,
   "metadata": {},
   "outputs": [
    {
     "data": {
      "text/html": [
       "<div>\n",
       "<style scoped>\n",
       "    .dataframe tbody tr th:only-of-type {\n",
       "        vertical-align: middle;\n",
       "    }\n",
       "\n",
       "    .dataframe tbody tr th {\n",
       "        vertical-align: top;\n",
       "    }\n",
       "\n",
       "    .dataframe thead th {\n",
       "        text-align: right;\n",
       "    }\n",
       "</style>\n",
       "<table border=\"1\" class=\"dataframe\">\n",
       "  <thead>\n",
       "    <tr style=\"text-align: right;\">\n",
       "      <th></th>\n",
       "      <th>Unnamed: 1</th>\n",
       "      <th>선수 A</th>\n",
       "      <th>선수 B</th>\n",
       "    </tr>\n",
       "    <tr>\n",
       "      <th>선수\n",
       "성적별 인센티브</th>\n",
       "      <th></th>\n",
       "      <th></th>\n",
       "      <th></th>\n",
       "    </tr>\n",
       "  </thead>\n",
       "  <tbody>\n",
       "    <tr>\n",
       "      <th>우승</th>\n",
       "      <td>300.0</td>\n",
       "      <td>0.58</td>\n",
       "      <td>0.65</td>\n",
       "    </tr>\n",
       "    <tr>\n",
       "      <th>순위 상승</th>\n",
       "      <td>150.0</td>\n",
       "      <td>0.87</td>\n",
       "      <td>0.51</td>\n",
       "    </tr>\n",
       "    <tr>\n",
       "      <th>성적 동일</th>\n",
       "      <td>0.0</td>\n",
       "      <td>0.55</td>\n",
       "      <td>0.45</td>\n",
       "    </tr>\n",
       "    <tr>\n",
       "      <th>성적 하락</th>\n",
       "      <td>-100.0</td>\n",
       "      <td>0.05</td>\n",
       "      <td>0.05</td>\n",
       "    </tr>\n",
       "  </tbody>\n",
       "</table>\n",
       "</div>"
      ],
      "text/plain": [
       "                                      Unnamed: 1  선수 A  선수 B\n",
       "                        선수\\n성적별 인센티브                        \n",
       "우승                                         300.0  0.58  0.65\n",
       "순위 상승                                      150.0  0.87  0.51\n",
       "성적 동일                                        0.0  0.55  0.45\n",
       "성적 하락                                     -100.0  0.05  0.05"
      ]
     },
     "execution_count": 2,
     "metadata": {},
     "output_type": "execute_result"
    }
   ],
   "source": [
    "ex = ex.iloc[1:5, :]\n",
    "ex"
   ]
  },
  {
   "cell_type": "code",
   "execution_count": 19,
   "metadata": {},
   "outputs": [],
   "source": [
    "# 기대값을 처리하는 함수\n",
    "result = 0\n",
    "def expected(data):\n",
    "    global result\n",
    "    result += data[0] * data[1] #인센 * 성적\n",
    "    return result\n",
    "\n",
    "ins = [ex.iloc[n, 0] for n in range(4)]\n",
    "ins      #[300.0, 150.0, 0.0, -100.0]\n",
    "\n",
    "a = [ex.iloc[n, 1] for n in range(4)]\n",
    "b = [ex.iloc[n, 2] for n in range(4)]"
   ]
  },
  {
   "cell_type": "code",
   "execution_count": 20,
   "metadata": {},
   "outputs": [
    {
     "name": "stdout",
     "output_type": "stream",
     "text": [
      "A선수의 기대값:  299.5\n",
      "B선수의 기대값:  266.5\n"
     ]
    }
   ],
   "source": [
    "tup1 = []\n",
    "\n",
    "for i in zip(ins, a):\n",
    "    tup1.append(i)\n",
    "    \n",
    "    \n",
    "tup2 = []\n",
    "\n",
    "for i in zip(ins, b):\n",
    "    tup2.append(i)\n",
    "    \n",
    "a_e = list(map(expected, tup1))\n",
    "result = 0\n",
    "b_e = list(map(expected, tup2))\n",
    "\n",
    "print(\"A선수의 기대값: \", a_e[3])\n",
    "print(\"B선수의 기대값: \", b_e[3])"
   ]
  },
  {
   "cell_type": "code",
   "execution_count": 21,
   "metadata": {},
   "outputs": [
    {
     "name": "stdout",
     "output_type": "stream",
     "text": [
      "A선수의 분산:  76760.0125\n",
      "B선수의 분산:  46327.435000000005\n"
     ]
    }
   ],
   "source": [
    "# 분산\n",
    "a_var, b_var = 0, 0\n",
    "\n",
    "for n in range(4):\n",
    "    a_var += ((ex.iloc[n, 0] - a_e[3])**2)*ex.iloc[n, 1] \n",
    "    b_var += ((ex.iloc[n, 0] - b_e[3])**2)*ex.iloc[n, 2]\n",
    "    \n",
    "print(\"A선수의 분산: \", a_var)\n",
    "print(\"B선수의 분산: \", b_var)"
   ]
  },
  {
   "cell_type": "markdown",
   "metadata": {},
   "source": [
    "# 정규 분포\n",
    "    A는 서울에서 부산까지 KTX의 운행시간을 100회 측정하여 평균을 170분, 표준 편차를 10분으로 측정했다. \n",
    "    무작위로 KTX를 이용했을 때, 185분보다 더 오래 걸릴 확률을 구하라"
   ]
  },
  {
   "cell_type": "markdown",
   "metadata": {},
   "source": [
    "    새로운 확률변수를 다음과 같이 구해본다.\n",
    "    z = (어떤 특정한 날에 이용하는 걸릴 시간 - 평균) / 표준편차"
   ]
  },
  {
   "cell_type": "code",
   "execution_count": 23,
   "metadata": {},
   "outputs": [
    {
     "data": {
      "text/plain": [
       "1.5"
      ]
     },
     "execution_count": 23,
     "metadata": {},
     "output_type": "execute_result"
    }
   ],
   "source": [
    "z = (185 - 170) / 10 \n",
    "z"
   ]
  },
  {
   "cell_type": "markdown",
   "metadata": {},
   "source": [
    "    P(Z > 1.5) 누적 확률을 구한다. (https://en.wikipedia.org/wiki/Standard_normal_table)\n",
    "    1 - 1.5의 누적확율은 0.93319 = 0.066807 -> 6.6%"
   ]
  },
  {
   "cell_type": "code",
   "execution_count": 39,
   "metadata": {},
   "outputs": [
    {
     "data": {
      "image/png": "[encoded data removed]",
      "text/plain": [
       "<Figure size 432x288 with 1 Axes>"
      ]
     },
     "metadata": {
      "needs_background": "light"
     },
     "output_type": "display_data"
    }
   ],
   "source": [
    "import math\n",
    "import matplotlib.pyplot as plt\n",
    "import scipy as sp\n",
    "import scipy.stats\n",
    "\n",
    "ex = pd.read_excel(\"data/basic/norm.xlsx\", usecols = \"B\")\n",
    "\n",
    "cum = []\n",
    "def cum_norm(x):\n",
    "    cum.extend(sp.stats.norm.cdf(x))\n",
    "    \n",
    "ex.apply(cum_norm)\n",
    "ex['누적확률분포'] = cum\n",
    "\n",
    "\n",
    "result = sp.stats.norm.cdf(1.5)\n",
    "\n",
    "plt.plot(ex['구간'], ex['누적확률분포'])\n",
    "plt.show()"
   ]
  },
  {
   "cell_type": "code",
   "execution_count": 40,
   "metadata": {},
   "outputs": [
    {
     "data": {
      "image/png": "[encoded data removed]",
      "text/plain": [
       "<Figure size 432x288 with 1 Axes>"
      ]
     },
     "metadata": {
      "needs_background": "light"
     },
     "output_type": "display_data"
    }
   ],
   "source": [
    "def norm(x, mu = 0, sigma = 1):\n",
    "    sqrt_two_pi = math.sqrt(2 * math.pi)\n",
    "    return (math.exp(-(x-mu)**2/2/sigma**2) /(sqrt_two_pi * sigma))\n",
    "\n",
    "dist = []\n",
    "dist.extend(ex['구간'].apply(norm))\n",
    "ex['확률분포'] = dist\n",
    "\n",
    "plt.plot(ex['구간'], ex['확률분포'])\n",
    "plt.show()"
   ]
  },
  {
   "cell_type": "code",
   "execution_count": 43,
   "metadata": {},
   "outputs": [
    {
     "name": "stdout",
     "output_type": "stream",
     "text": [
      "0.08313908976417642\n",
      "0.08313908976417336\n"
     ]
    }
   ],
   "source": [
    "# 이항 분포\n",
    "n = 49\n",
    "r = 2\n",
    "p = 0.1\n",
    "\n",
    "def nCr(n, r):\n",
    "    f = math.factorial\n",
    "    return f(n) / f(r) / f(n-r)\n",
    "\n",
    "result = nCr(n, r) * (p**r) *((1-p)**(n-r))\n",
    "print(result)\n",
    "\n",
    "\n",
    "# scipy 패키지 이용\n",
    "# pmf(확률질량함수), pdf(확률밀도함수)\n",
    "rv = sp.stats.binom(n, p)\n",
    "result = rv.pmf(r)\n",
    "print(result)"
   ]
  },
  {
   "cell_type": "markdown",
   "metadata": {},
   "source": [
    "# 가설 검정"
   ]
  },
  {
   "cell_type": "code",
   "execution_count": 10,
   "metadata": {},
   "outputs": [
    {
     "data": {
      "text/html": [
       "<div>\n",
       "<style scoped>\n",
       "    .dataframe tbody tr th:only-of-type {\n",
       "        vertical-align: middle;\n",
       "    }\n",
       "\n",
       "    .dataframe tbody tr th {\n",
       "        vertical-align: top;\n",
       "    }\n",
       "\n",
       "    .dataframe thead th {\n",
       "        text-align: right;\n",
       "    }\n",
       "</style>\n",
       "<table border=\"1\" class=\"dataframe\">\n",
       "  <thead>\n",
       "    <tr style=\"text-align: right;\">\n",
       "      <th></th>\n",
       "      <th>0</th>\n",
       "    </tr>\n",
       "  </thead>\n",
       "  <tbody>\n",
       "    <tr>\n",
       "      <th>0</th>\n",
       "      <td>308.0</td>\n",
       "    </tr>\n",
       "    <tr>\n",
       "      <th>1</th>\n",
       "      <td>302.0</td>\n",
       "    </tr>\n",
       "    <tr>\n",
       "      <th>2</th>\n",
       "      <td>290.0</td>\n",
       "    </tr>\n",
       "    <tr>\n",
       "      <th>3</th>\n",
       "      <td>292.0</td>\n",
       "    </tr>\n",
       "    <tr>\n",
       "      <th>4</th>\n",
       "      <td>327.0</td>\n",
       "    </tr>\n",
       "    <tr>\n",
       "      <th>5</th>\n",
       "      <td>290.0</td>\n",
       "    </tr>\n",
       "    <tr>\n",
       "      <th>6</th>\n",
       "      <td>320.0</td>\n",
       "    </tr>\n",
       "    <tr>\n",
       "      <th>7</th>\n",
       "      <td>285.0</td>\n",
       "    </tr>\n",
       "    <tr>\n",
       "      <th>8</th>\n",
       "      <td>315.0</td>\n",
       "    </tr>\n",
       "    <tr>\n",
       "      <th>9</th>\n",
       "      <td>285.0</td>\n",
       "    </tr>\n",
       "    <tr>\n",
       "      <th>10</th>\n",
       "      <td>295.0</td>\n",
       "    </tr>\n",
       "    <tr>\n",
       "      <th>11</th>\n",
       "      <td>288.0</td>\n",
       "    </tr>\n",
       "    <tr>\n",
       "      <th>12</th>\n",
       "      <td>310.0</td>\n",
       "    </tr>\n",
       "    <tr>\n",
       "      <th>13</th>\n",
       "      <td>325.0</td>\n",
       "    </tr>\n",
       "    <tr>\n",
       "      <th>14</th>\n",
       "      <td>300.0</td>\n",
       "    </tr>\n",
       "  </tbody>\n",
       "</table>\n",
       "</div>"
      ],
      "text/plain": [
       "        0\n",
       "0   308.0\n",
       "1   302.0\n",
       "2   290.0\n",
       "3   292.0\n",
       "4   327.0\n",
       "5   290.0\n",
       "6   320.0\n",
       "7   285.0\n",
       "8   315.0\n",
       "9   285.0\n",
       "10  295.0\n",
       "11  288.0\n",
       "12  310.0\n",
       "13  325.0\n",
       "14  300.0"
      ]
     },
     "execution_count": 10,
     "metadata": {},
     "output_type": "execute_result"
    }
   ],
   "source": [
    "import pandas as pd\n",
    "import numpy as np\n",
    "import math\n",
    "import scipy as sp\n",
    "import scipy.stats\n",
    "\n",
    "ex = pd.read_excel('data/basic/hy.xlsx', usecols = 'C:Q')\n",
    "ex = ex.iloc[:1, :]\n",
    "ex = pd.DataFrame(list(ex.iloc[0]))\n",
    "ex"
   ]
  },
  {
   "cell_type": "code",
   "execution_count": 12,
   "metadata": {},
   "outputs": [
    {
     "name": "stdout",
     "output_type": "stream",
     "text": [
      "검정 통계량:  0.5680615441798167\n",
      "또 다른 검정통계량:  Ttest_1sampResult(statistic=0.5680615441798167, pvalue=0.5789907508807801)\n"
     ]
    }
   ],
   "source": [
    "hypo = 300\n",
    "mean = ex.mean()[0]\n",
    "std = ex.std()[0]\n",
    "\n",
    "t_result = (mean - hypo) / (std/math.sqrt(15))\n",
    "print('검정 통계량: ', t_result)\n",
    "\n",
    "another = sp.stats.ttest_1samp(list(ex[0]), 300)\n",
    "print('또 다른 검정통계량: ', another)"
   ]
  },
  {
   "cell_type": "markdown",
   "metadata": {},
   "source": []
  },
  {
   "cell_type": "code",
   "execution_count": null,
   "metadata": {},
   "outputs": [],
   "source": []
  }
 ],
 "metadata": {
  "kernelspec": {
   "display_name": "Python 3",
   "language": "python",
   "name": "python3"
  },
  "language_info": {
   "codemirror_mode": {
    "name": "ipython",
    "version": 3
   },
   "file_extension": ".py",
   "mimetype": "text/x-python",
   "name": "python",
   "nbconvert_exporter": "python",
   "pygments_lexer": "ipython3",
   "version": "3.7.0"
  }
 },
 "nbformat": 4,
 "nbformat_minor": 2
}
