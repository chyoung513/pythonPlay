{
 "cells": [
  {
   "cell_type": "code",
   "execution_count": 3,
   "metadata": {},
   "outputs": [
    {
     "name": "stdout",
     "output_type": "stream",
     "text": [
      "<class 'numpy.ndarray'>\n",
      "[10 20 30 41 55]\n",
      "(5,)\n"
     ]
    }
   ],
   "source": [
    "import numpy as np\n",
    "\n",
    "arr = np.array([10, 20, 30, 41,55])\n",
    "print(type(arr))\n",
    "print(arr)\n",
    "print(arr.shape)"
   ]
  },
  {
   "cell_type": "markdown",
   "metadata": {},
   "source": [
    "### 백터화 연산 : 배열의 각 원소에 대한 반복연산을 하나의 명령어로 처리 가능"
   ]
  },
  {
   "cell_type": "code",
   "execution_count": 5,
   "metadata": {},
   "outputs": [
    {
     "name": "stdout",
     "output_type": "stream",
     "text": [
      "[0 2 4 8]\n"
     ]
    }
   ],
   "source": [
    "data = [0, 1, 2, 4, 8, 10]\n",
    "arr = np.array(data)\n",
    "arr *= 2\n",
    "print(arr)"
   ]
  },
  {
   "cell_type": "code",
   "execution_count": 9,
   "metadata": {},
   "outputs": [
    {
     "name": "stdout",
     "output_type": "stream",
     "text": [
      "[12 24 36]\n",
      "[False  True False]\n",
      "[False  True False]\n"
     ]
    }
   ],
   "source": [
    "a = np.array([1, 2, 3])\n",
    "b = np.array([10, 20, 30])\n",
    "\n",
    "result = 2*a +b\n",
    "print(result)\n",
    "\n",
    "result = a == 2          # result = (a == 2)\n",
    "print(result)\n",
    "\n",
    "result = (a==2) & (b>10)\n",
    "print(result)"
   ]
  },
  {
   "cell_type": "markdown",
   "metadata": {},
   "source": [
    "### 2차원 배열"
   ]
  },
  {
   "cell_type": "code",
   "execution_count": 11,
   "metadata": {},
   "outputs": [
    {
     "name": "stdout",
     "output_type": "stream",
     "text": [
      "[[0 1 2]\n",
      " [3 4 5]]\n",
      "(2, 3)\n"
     ]
    }
   ],
   "source": [
    "arr = np.array([[0, 1, 2], [3, 4, 5]])\n",
    "print(arr)\n",
    "print(arr.shape)"
   ]
  },
  {
   "cell_type": "code",
   "execution_count": 13,
   "metadata": {},
   "outputs": [
    {
     "name": "stdout",
     "output_type": "stream",
     "text": [
      "2 3\n"
     ]
    }
   ],
   "source": [
    "# 행의 갯수, 열의 갯수\n",
    "print(len(arr), len(arr[0]))"
   ]
  },
  {
   "cell_type": "markdown",
   "metadata": {},
   "source": [
    "### 3차원 배열"
   ]
  },
  {
   "cell_type": "code",
   "execution_count": 30,
   "metadata": {},
   "outputs": [
    {
     "name": "stdout",
     "output_type": "stream",
     "text": [
      "(2, 3, 4)\n",
      "2 3 4\n",
      "3\n"
     ]
    }
   ],
   "source": [
    "arr = np.array([[[1, 2, 3, 4], [4, 5, 6, 7], [4, 5, 6, 7]], \n",
    "                [[7, 8,9, 10], [7, 8, 9, 11], [10, 11, 12, 13]]])\n",
    "\n",
    "print(arr.shape)\n",
    "print(len(arr), len(arr[0]), len(arr[0][0]))\n",
    "print(arr.ndim)              #3차원"
   ]
  },
  {
   "cell_type": "code",
   "execution_count": 33,
   "metadata": {},
   "outputs": [
    {
     "name": "stdout",
     "output_type": "stream",
     "text": [
      "0\n",
      "()\n"
     ]
    }
   ],
   "source": [
    "a = np.array(1)\n",
    "print(a.ndim)\n",
    "print(a.shape)"
   ]
  },
  {
   "cell_type": "markdown",
   "metadata": {},
   "source": [
    "### 배열의 인덱싱"
   ]
  },
  {
   "cell_type": "code",
   "execution_count": 40,
   "metadata": {},
   "outputs": [
    {
     "name": "stdout",
     "output_type": "stream",
     "text": [
      "2 4\n",
      "0 1 5\n"
     ]
    }
   ],
   "source": [
    "arr = np.array([0, 1, 2, 3, 4])\n",
    "print(arr[2], arr[-1])\n",
    "\n",
    "arr = np.array([[0, 1, 2], [3, 4, 5]])\n",
    "print(arr[0,0], arr[0,1], arr[-1, -1])"
   ]
  },
  {
   "cell_type": "code",
   "execution_count": 22,
   "metadata": {},
   "outputs": [
    {
     "name": "stdout",
     "output_type": "stream",
     "text": [
      "[0 2 4 6 8]\n",
      "[0 1 0 1 0 1 0 1 0 1]\n",
      "[ True False  True False  True False  True False  True False]\n",
      "[0 1 0 1 0 1 0 1 0 1]\n",
      "[[ 1  4]\n",
      " [ 5  8]\n",
      " [ 9 12]]\n",
      "[[ 9 10 11 12]\n",
      " [ 1  2  3  4]\n",
      " [ 5  6  7  8]]\n",
      "[ 3  6  9 12 15 18]\n",
      "[ 5  9 13 17]\n",
      "[9]\n"
     ]
    }
   ],
   "source": [
    "# fancy indexing\n",
    "arr = np.array([0, 1, 2, 3, 4, 5, 6, 7, 8, 9])\n",
    "idx = np.array([True, False, True, False, True, False, True, False, True, False])\n",
    "\n",
    "print(arr[idx])\n",
    "print(arr % 2)\n",
    "print(arr % 2 == 0)\n",
    "print(arr[arr % 2])\n",
    "\n",
    "arr = np.array([[1, 2, 3, 4],\n",
    "                [5, 6, 7, 8],\n",
    "                [9, 10, 11, 12]])\n",
    "\n",
    "#[[1, 4], [5, 8], [9, 12]]\n",
    "print(arr[:, [0, -1]])\n",
    "print(arr[[2, 0, 1], :])\n",
    "\n",
    "arr = np.array([1, 2, 3, 4, 5, 6, 7, 8, 9, 10, 11, 12, 13, 14, 15, 16, 17, 18, 19, 20])\n",
    "# 이 배열에서 3의 배수를 찾아라\n",
    "# 이 배열에서 4로 나누면 1이 남는 수를 찾으라\n",
    "# 이 배열에서 3으로 나누면 나눠지고 4로 나누면 1이 남는 수를 찾아라\n",
    "idx = (arr % 3 == 0)\n",
    "print(arr[idx])\n",
    "\n",
    "idx = (arr % 4 == 1) & (arr > 4)\n",
    "print(arr[idx])\n",
    "\n",
    "idx = (arr % 3 == 0) & (arr % 4 == 1) & (arr > 4)\n",
    "print(arr[idx])"
   ]
  },
  {
   "cell_type": "markdown",
   "metadata": {},
   "source": [
    "### 배열의 슬라이싱"
   ]
  },
  {
   "cell_type": "code",
   "execution_count": 45,
   "metadata": {},
   "outputs": [
    {
     "name": "stdout",
     "output_type": "stream",
     "text": [
      "[0 1 2 3]\n",
      "[0 4]\n",
      "[5 6 7]\n"
     ]
    }
   ],
   "source": [
    "arr = np.array([[0, 1, 2, 3], [4, 5, 6, 7]])\n",
    "\n",
    "print(arr[0, :])\n",
    "print(arr[:, 0])\n",
    "print(arr[1, 1:])"
   ]
  },
  {
   "cell_type": "markdown",
   "metadata": {},
   "source": [
    "### NumPy의 자료형\n",
    "\n",
    "    b : 불리언                         b\n",
    "    i : 정수                           i8\n",
    "    u : 부호 없는 정수                  u8\n",
    "    f : 부동 소수점                     f8\n",
    "    c : 복수 부동소수점                 c16\n",
    "    O : 객체\n",
    "    S : 바이트 문자열                   S24(24글자)\n",
    "    U : 유니코드 문자열                 U24"
   ]
  },
  {
   "cell_type": "code",
   "execution_count": 62,
   "metadata": {},
   "outputs": [
    {
     "name": "stdout",
     "output_type": "stream",
     "text": [
      "int32\n",
      "float64\n",
      "float64\n"
     ]
    }
   ],
   "source": [
    "arr = np.array([1, 2, 3])\n",
    "print(arr.dtype)\n",
    "\n",
    "arr = np.array([1.0, 2.0, 3.0])\n",
    "print(arr.dtype)\n",
    "\n",
    "arr = np.array([1, 2, 3.0])\n",
    "print(arr.dtype)"
   ]
  },
  {
   "cell_type": "code",
   "execution_count": 65,
   "metadata": {},
   "outputs": [
    {
     "name": "stdout",
     "output_type": "stream",
     "text": [
      "float32\n",
      "3.0\n",
      "<U1\n",
      "12\n"
     ]
    }
   ],
   "source": [
    "arr = np.array([1, 2, 3], dtype='f')\n",
    "print(arr.dtype)\n",
    "print(arr[0] + arr[1])\n",
    "\n",
    "arr = np.array([1, 2, 3], dtype='U')\n",
    "print(arr.dtype)\n",
    "print(arr[0] + arr[1])"
   ]
  },
  {
   "cell_type": "markdown",
   "metadata": {},
   "source": [
    "### 배열 생성"
   ]
  },
  {
   "cell_type": "code",
   "execution_count": 89,
   "metadata": {},
   "outputs": [
    {
     "name": "stdout",
     "output_type": "stream",
     "text": [
      "[0. 0. 0. 0. 0.]\n",
      "[[0 0 0]\n",
      " [0 0 0]] int32\n",
      "['abcd' 'ABCD' '' '' '']\n",
      "[[[1. 1. 1. 1.]\n",
      "  [1. 1. 1. 1.]\n",
      "  [1. 1. 1. 1.]]\n",
      "\n",
      " [[1. 1. 1. 1.]\n",
      "  [1. 1. 1. 1.]\n",
      "  [1. 1. 1. 1.]]]\n",
      "[[1. 1. 1.]\n",
      " [1. 1. 1.]]\n",
      "[[4.24399158e-314 8.48798317e-314 1.06099790e-313]\n",
      " [1.48539705e-313 1.06099790e-313 1.48539705e-313]\n",
      " [1.69759663e-313 2.12199579e-313 1.69759663e-313]\n",
      " [2.33419537e-313 2.33419537e-313 2.75859453e-313]]\n",
      "[0 1 2 3 4 5 6 7 8 9]\n",
      "[ 3  5  7  9 11 13 15 17 19]\n",
      "[  0.  25.  50.  75. 100.]\n"
     ]
    }
   ],
   "source": [
    "a = np.zeros(5)\n",
    "print(a)\n",
    "\n",
    "b = np.zeros((2, 3), dtype='i')\n",
    "print(b, b.dtype)\n",
    "\n",
    "str = np.zeros(5, dtype='U4')\n",
    "str[0] = 'abcd'\n",
    "str[1] = 'ABCDF'    #dtype이 U4이므로 F가 짤린다.\n",
    "print(str)\n",
    "\n",
    "d = np.ones((2, 3, 4))\n",
    "print(d)\n",
    "\n",
    "# 크기를 명시하지 않고 다른 배열과 크기를 맞춰서 생성\n",
    "e = np.ones_like(b, dtype='f')\n",
    "print(e)\n",
    "\n",
    "f = np.empty((4, 3))\n",
    "print(f)\n",
    "\n",
    "# arange\n",
    "print(np.arange(10))\n",
    "print(np.arange(3, 21, 2))\n",
    "\n",
    "# linspace (구간 수만큼 분할)\n",
    "print(np.linspace(0, 100, 5))"
   ]
  },
  {
   "cell_type": "markdown",
   "metadata": {},
   "source": [
    "### 전치 연산(Transpose)"
   ]
  },
  {
   "cell_type": "code",
   "execution_count": 4,
   "metadata": {},
   "outputs": [
    {
     "data": {
      "text/plain": [
       "array([[1, 4],\n",
       "       [2, 5],\n",
       "       [3, 6]])"
      ]
     },
     "execution_count": 4,
     "metadata": {},
     "output_type": "execute_result"
    }
   ],
   "source": [
    "arr = np.array([[1, 2, 3], [4, 5, 6]])\n",
    "\n",
    "arr.T"
   ]
  },
  {
   "cell_type": "markdown",
   "metadata": {},
   "source": [
    "### 배열의 크기 변형 : reshapce(), flatten(), ravel()"
   ]
  },
  {
   "cell_type": "code",
   "execution_count": 26,
   "metadata": {},
   "outputs": [
    {
     "name": "stdout",
     "output_type": "stream",
     "text": [
      "[[ 0  1  2  3]\n",
      " [ 4  5  6  7]\n",
      " [ 8  9 10 11]]\n",
      "[[ 0  1  2  3]\n",
      " [ 4  5  6  7]\n",
      " [ 8  9 10 11]]\n",
      "[[[ 0  1  2]\n",
      "  [ 3  4  5]]\n",
      "\n",
      " [[ 6  7  8]\n",
      "  [ 9 10 11]]]\n",
      "[[[ 0  1  2]\n",
      "  [ 3  4  5]]\n",
      "\n",
      " [[ 6  7  8]\n",
      "  [ 9 10 11]]]\n",
      "[ 0  1  2  3  4  5  6  7  8  9 10 11]\n",
      "[ 0  1  2  3  4  5  6  7  8  9 10 11]\n"
     ]
    }
   ],
   "source": [
    "arr = np.arange(12)\n",
    "\n",
    "arrReshape = arr.reshape(3, 4)\n",
    "print(arrReshape)\n",
    "\n",
    "arrRe = arr.reshape(3, -1)\n",
    "print(arrRe)\n",
    "\n",
    "arr = arr.reshape(2, 2, 3)\n",
    "print(arr)\n",
    "\n",
    "arr = arr.reshape(2, -1, 3)                 #arr.reshapce(2, 2, -1)\n",
    "print(arr)\n",
    "\n",
    "print(arr.flatten())\n",
    "print(arr.ravel())"
   ]
  },
  {
   "cell_type": "markdown",
   "metadata": {},
   "source": [
    "### 배열 연결\n",
    "    hstack\n",
    "    vstack\n",
    "    stack\n",
    "    title"
   ]
  },
  {
   "cell_type": "code",
   "execution_count": 42,
   "metadata": {},
   "outputs": [
    {
     "name": "stdout",
     "output_type": "stream",
     "text": [
      "[[[1. 1. 1. 1.]\n",
      "  [1. 1. 1. 1.]\n",
      "  [1. 1. 1. 1.]]\n",
      "\n",
      " [[0. 0. 0. 0.]\n",
      "  [0. 0. 0. 0.]\n",
      "  [0. 0. 0. 0.]]]\n",
      "[[0. 0.]\n",
      " [0. 0.]]\n",
      "[[1. 1. 1. 0. 0.]\n",
      " [1. 1. 1. 0. 0.]]\n",
      "[[1. 1. 1.]\n",
      " [1. 1. 1.]\n",
      " [0. 0. 0.]\n",
      " [0. 0. 0.]\n",
      " [0. 0. 0.]]\n",
      "[[[1. 0.]\n",
      "  [1. 0.]\n",
      "  [1. 0.]\n",
      "  [1. 0.]]\n",
      "\n",
      " [[1. 0.]\n",
      "  [1. 0.]\n",
      "  [1. 0.]\n",
      "  [1. 0.]]\n",
      "\n",
      " [[1. 0.]\n",
      "  [1. 0.]\n",
      "  [1. 0.]\n",
      "  [1. 0.]]] (3, 4, 2)\n",
      "[[[1. 1. 1. 1.]\n",
      "  [1. 1. 1. 1.]\n",
      "  [1. 1. 1. 1.]]\n",
      "\n",
      " [[0. 0. 0. 0.]\n",
      "  [0. 0. 0. 0.]\n",
      "  [0. 0. 0. 0.]]] (2, 3, 4)\n",
      "[[0 1 2 0 1 2]\n",
      " [3 4 5 3 4 5]]\n",
      "[[0 1 2 0 1 2]\n",
      " [3 4 5 3 4 5]\n",
      " [0 1 2 0 1 2]\n",
      " [3 4 5 3 4 5]\n",
      " [0 1 2 0 1 2]\n",
      " [3 4 5 3 4 5]]\n"
     ]
    }
   ],
   "source": [
    "arr1 = np.ones((2, 3))\n",
    "print(arr)\n",
    "\n",
    "arr2 = np.zeros((2,2))\n",
    "print(arr2)\n",
    "\n",
    "arr = np.hstack([arr1, arr2])\n",
    "print(arr)\n",
    "\n",
    "\n",
    "arr1 = np.ones((2, 3))\n",
    "arr2 = np.zeros((3, 3))\n",
    "arr = np.vstack([arr1, arr2])\n",
    "print(arr)\n",
    "\n",
    "arr1 = np.ones((3, 4))\n",
    "arr2 = np.zeros((3, 4))\n",
    "arr = np.dstack([arr1, arr2])\n",
    "print(arr, arr.shape)\n",
    "\n",
    "arr = np.stack([arr1, arr2], axis=0)\n",
    "print(arr, arr.shape)\n",
    "\n",
    "d = np.array([[0, 1, 2], [3, 4, 5]])\n",
    "d1 = np.tile(d, 2)\n",
    "print(d1)\n",
    "\n",
    "d2= np.tile(d, (3,2))\n",
    "print(d2)"
   ]
  },
  {
   "cell_type": "markdown",
   "metadata": {},
   "source": [
    "\n",
    "\n",
    "\n",
    "\n",
    "\n",
    "### 2차원 그리드 포인트 생성: meshgrid()\n",
    "\n",
    "\n",
    "\n",
    "\n"
   ]
  },
  {
   "cell_type": "code",
   "execution_count": 54,
   "metadata": {},
   "outputs": [
    {
     "name": "stdout",
     "output_type": "stream",
     "text": [
      "[0 1 2]\n",
      "[0 1 2 3 4]\n",
      "[[0 1 2]\n",
      " [0 1 2]\n",
      " [0 1 2]\n",
      " [0 1 2]\n",
      " [0 1 2]]\n",
      "[[0 0 0]\n",
      " [1 1 1]\n",
      " [2 2 2]\n",
      " [3 3 3]\n",
      " [4 4 4]]\n",
      "[[(0, 0), (1, 0), (2, 0)], [(0, 1), (1, 1), (2, 1)], [(0, 2), (1, 2), (2, 2)], [(0, 3), (1, 3), (2, 3)], [(0, 4), (1, 4), (2, 4)]]\n"
     ]
    },
    {
     "data": {
      "image/png": "[encoded data removed]",
      "text/plain": [
       "<Figure size 432x288 with 1 Axes>"
      ]
     },
     "metadata": {
      "needs_background": "light"
     },
     "output_type": "display_data"
    }
   ],
   "source": [
    "x = np.arange(3)\n",
    "print(x)\n",
    "y = np.arange(5)\n",
    "print(y)\n",
    "X, Y = np.meshgrid(x, y)\n",
    "print(X)\n",
    "print(Y)\n",
    "\n",
    "zipList = [list(zip(x, y)) for x, y in zip(X, Y)]\n",
    "print(zipList)\n",
    "\n",
    "\n",
    "import matplotlib.pylab as plt\n",
    "plt.title('mp.meshgrid로 만든 Grid Points')\n",
    "plt.scatter(X, Y, linewidths=10)\n",
    "plt.show()"
   ]
  },
  {
   "cell_type": "markdown",
   "metadata": {},
   "source": [
    "### 자원 축소 연산\n",
    "    최대/최소 : min, max, argmin, argmax\n",
    "    통계 : sum, mean, median, std, var\n",
    "    불리언 : all, any"
   ]
  },
  {
   "cell_type": "code",
   "execution_count": 71,
   "metadata": {},
   "outputs": [
    {
     "name": "stdout",
     "output_type": "stream",
     "text": [
      "0\n",
      "2\n",
      "평균 1.8\n",
      "중앙값 2.0\n",
      "합계 :  6\n",
      "열 합계 :  [3 3]\n",
      "행 합계 :  [2 4]\n"
     ]
    }
   ],
   "source": [
    "x = np.array([1, 2, 3])\n",
    "\n",
    "print(np.argmin(x))\n",
    "print(np.argmax(x))\n",
    "\n",
    "y = np.array([1, 2, 3, 1, 2])   \n",
    "\n",
    "print('평균', np.mean(y))\n",
    "print('중앙값', np.median(y))\n",
    "\n",
    "\n",
    "np.all([True, False, True])\n",
    "np.any([True, True, False])\n",
    "\n",
    "arr = np.array([[1, 1], [2, 2]])\n",
    "print('합계 : ', arr.sum())\n",
    "print('열 합계 : ', arr.sum(axis=0))\n",
    "print('행 합계 : ', arr.sum(axis=1))"
   ]
  },
  {
   "cell_type": "markdown",
   "metadata": {},
   "source": [
    "### 정렬"
   ]
  },
  {
   "cell_type": "code",
   "execution_count": 75,
   "metadata": {},
   "outputs": [
    {
     "name": "stdout",
     "output_type": "stream",
     "text": [
      "[[ 3  4  5  7]\n",
      " [ 1  9 11 12]\n",
      " [ 1  2 14 15]]\n",
      "[[ 1  3  1  7]\n",
      " [ 2 12  5  9]\n",
      " [ 4 15 11 14]]\n"
     ]
    }
   ],
   "source": [
    "arr = np.array([[4, 3, 5, 7], [1, 12, 11, 9], [2, 15, 1, 14]])\n",
    "print(np.sort(arr))\n",
    "\n",
    "print(np.sort(arr, axis = 0))              # 열기준 sorting\n",
    "\n",
    "arr.sort(axis=1)             #in-place method(a가 변경)"
   ]
  },
  {
   "cell_type": "code",
   "execution_count": 78,
   "metadata": {},
   "outputs": [
    {
     "name": "stdout",
     "output_type": "stream",
     "text": [
      "[2 3 1 0]\n",
      "[12 25 38 42]\n"
     ]
    }
   ],
   "source": [
    "arr = np.array([42, 38, 12, 25])\n",
    "print(np.argsort(arr))\n",
    "\n",
    "idx = np.argsort(arr)\n",
    "print(arr[idx])"
   ]
  },
  {
   "cell_type": "markdown",
   "metadata": {},
   "source": [
    "### 기술통계\n",
    "    데이터 갯수 : len()\n",
    "    평균 : mean()\n",
    "    분산 : var()\n",
    "    표준편차 : std()\n",
    "    최대값 : max()\n",
    "    최소값 : min()\n",
    "    중앙값 : median()\n",
    "    사분위수 : percentile()"
   ]
  },
  {
   "cell_type": "code",
   "execution_count": 83,
   "metadata": {},
   "outputs": [
    {
     "name": "stdout",
     "output_type": "stream",
     "text": [
      "최소값 :  -24.0\n",
      "1사분위 :  0.0\n",
      "2사분위 :  5.0\n",
      "3사분위 :  10.0\n",
      "최대값 :  23.0\n",
      "중앙값 :  5.0\n"
     ]
    },
    {
     "data": {
      "text/plain": [
       "DescribeResult(nobs=3, minmax=(1, 3), mean=2.0, variance=1.0, skewness=0.0, kurtosis=-1.5)"
      ]
     },
     "execution_count": 83,
     "metadata": {},
     "output_type": "execute_result"
    }
   ],
   "source": [
    "arr = np.array([18,   5,  10,  23,  19,  -8,  10,   0,   0,   5,   2,  15,   8,\n",
    "              2,   5,   4,  15,  -1,   4,  -7, -24,   7,   9,  -6,  23, -13])\n",
    "print('최소값 : ', np.percentile(arr, 0))\n",
    "print('1사분위 : ', np.percentile(arr, 25))\n",
    "print('2사분위 : ', np.percentile(arr, 50))\n",
    "print('3사분위 : ', np.percentile(arr, 75))\n",
    "print('최대값 : ', np.percentile(arr, 100))\n",
    "\n",
    "print('중앙값 : ', np.median(arr))\n",
    "\n",
    "from scipy.stats import describe\n",
    "describe(x)"
   ]
  },
  {
   "cell_type": "markdown",
   "metadata": {},
   "source": [
    "### 난수\n",
    "    rand : 0부터 1사이의 균일분포\n",
    "    randn : 가우시안 표준 정규 분포\n",
    "    randint : 균일분포의 정수 난수"
   ]
  },
  {
   "cell_type": "code",
   "execution_count": 92,
   "metadata": {},
   "outputs": [
    {
     "name": "stdout",
     "output_type": "stream",
     "text": [
      "[0.06702185 0.3070305  0.02842121 0.96008998 0.84878147 0.54313561\n",
      " 0.30349604 0.09029331 0.65638721 0.83115103]\n",
      "[[0.88135955 0.95908201 0.34691449 0.44768012 0.38329852]\n",
      " [0.71195178 0.25968637 0.59709033 0.27897362 0.70567851]\n",
      " [0.26063372 0.26426602 0.52436649 0.26108555 0.69097968]]\n",
      "3\n",
      "18\n",
      "[13 19 12 13 17]\n",
      "[[15 18 14 11 14]\n",
      " [17 11 16 18 13]\n",
      " [12 11 19 17 19]]\n"
     ]
    }
   ],
   "source": [
    "print(np.random.rand(10))\n",
    "print(np.random.rand(3, 5))\n",
    "\n",
    "print(np.random.randint(10))\n",
    "print(np.random.randint(11, 20))\n",
    "print(np.random.randint(11, 20, size = 5))\n",
    "print(np.random.randint(11, 20, size = (3, 5)))"
   ]
  },
  {
   "cell_type": "code",
   "execution_count": 110,
   "metadata": {},
   "outputs": [
    {
     "name": "stdout",
     "output_type": "stream",
     "text": [
      "[0.54340494 0.27836939 0.42451759 0.84477613 0.00471886]\n"
     ]
    }
   ],
   "source": [
    "# seed 설정\n",
    "np.random.seed(100)\n",
    "print(np.random.rand(5))"
   ]
  },
  {
   "cell_type": "code",
   "execution_count": 116,
   "metadata": {},
   "outputs": [
    {
     "name": "stdout",
     "output_type": "stream",
     "text": [
      "[1 8 3 9 2 4 6 5 7 0]\n"
     ]
    }
   ],
   "source": [
    "arr = np.arange(10)\n",
    "\n",
    "np.random.shuffle(arr)\n",
    "print(arr)"
   ]
  },
  {
   "cell_type": "code",
   "execution_count": 125,
   "metadata": {},
   "outputs": [
    {
     "name": "stdout",
     "output_type": "stream",
     "text": [
      "[1 0 3 2 4]\n",
      "[0 2 1]\n",
      "[3 3 2 2 1 0 1 2 0 2]\n"
     ]
    }
   ],
   "source": [
    "# 데이터 샘플링 (비복원/복원 추출)\n",
    "# replace : 비복원 (False), 복원 (True)\n",
    "print(np.random.choice(5, 5, replace = False))\n",
    "print(np.random.choice(5, 3, replace = False))\n",
    "\n",
    "# 추출 확률 설정\n",
    "print(np.random.choice(5, 10, p=[0.1, 0.4, 0.3, 0.2, 0]))"
   ]
  },
  {
   "cell_type": "markdown",
   "metadata": {},
   "source": [
    "### 정수형 데이터 카운팅"
   ]
  },
  {
   "cell_type": "code",
   "execution_count": 134,
   "metadata": {},
   "outputs": [
    {
     "name": "stdout",
     "output_type": "stream",
     "text": [
      "[ 2 11 34]\n",
      "['a' 'b' 'c'] [2 2 1]\n",
      "[0 2 2 1 0]\n"
     ]
    }
   ],
   "source": [
    "print(np.unique([11, 11, 2, 2, 34, 34]))\n",
    "\n",
    "strArr = np.array(['a', 'b', 'c', 'b', 'a'])\n",
    "item, count = np.unique(strArr, return_counts = True)\n",
    "\n",
    "print(item, count)\n",
    "\n",
    "print(np.bincount([1, 1, 2, 2, 3], minlength=5))"
   ]
  },
  {
   "cell_type": "markdown",
   "metadata": {},
   "source": [
    "# 실습\n",
    "### 데이터 : https://grouplens.org/datasets/movielens"
   ]
  },
  {
   "cell_type": "code",
   "execution_count": null,
   "metadata": {},
   "outputs": [],
   "source": [
    "data = np.loadtxt('data/movie/ratings.dat', delimiter='::', dtype= np.int64)\n",
    "print(data.shape)"
   ]
  },
  {
   "cell_type": "code",
   "execution_count": 172,
   "metadata": {},
   "outputs": [],
   "source": [
    "# 1행부터 10행까지 출력\n",
    "\n",
    "# 11행~5행까지 userid와 영화 id를 출력\n",
    "\n",
    "# 전체 평점 평균\n",
    "\n",
    "# 사용자의 평점 평균\n",
    "# 중복을 제거한 사용자 아이디만 조회\n",
    "user_ids = np.unique(data[:, 0])\n",
    "\n",
    "# 사용자별 평균평점 집계\n",
    "mean_values = []\n",
    "for user_id in user_ids:\n",
    "    data_for_user = data[data[:, 0] == user_id, :]\n",
    "    value = data_for_user[:, 2].mean()\n",
    "    mean_values.append([user_id,value])"
   ]
  },
  {
   "cell_type": "code",
   "execution_count": null,
   "metadata": {},
   "outputs": [],
   "source": []
  }
 ],
 "metadata": {
  "kernelspec": {
   "display_name": "Python 3",
   "language": "python",
   "name": "python3"
  },
  "language_info": {
   "codemirror_mode": {
    "name": "ipython",
    "version": 3
   },
   "file_extension": ".py",
   "mimetype": "text/x-python",
   "name": "python",
   "nbconvert_exporter": "python",
   "pygments_lexer": "ipython3",
   "version": "3.7.0"
  }
 },
 "nbformat": 4,
 "nbformat_minor": 2
}
