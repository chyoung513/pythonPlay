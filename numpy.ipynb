{
 "cells": [
  {
   "cell_type": "code",
   "execution_count": 3,
   "metadata": {},
   "outputs": [
    {
     "name": "stdout",
     "output_type": "stream",
     "text": [
      "<class 'numpy.ndarray'>\n",
      "[10 20 30 41 55]\n",
      "(5,)\n"
     ]
    }
   ],
   "source": [
    "import numpy as np\n",
    "\n",
    "arr = np.array([10, 20, 30, 41,55])\n",
    "print(type(arr))\n",
    "print(arr)\n",
    "print(arr.shape)"
   ]
  },
  {
   "cell_type": "markdown",
   "metadata": {},
   "source": [
    "### 백터화 연산 : 배열의 각 원소에 대한 반복연산을 하나의 명령어로 처리 가능"
   ]
  },
  {
   "cell_type": "code",
   "execution_count": 5,
   "metadata": {},
   "outputs": [
    {
     "name": "stdout",
     "output_type": "stream",
     "text": [
      "[0 2 4 8]\n"
     ]
    }
   ],
   "source": [
    "data = [0, 1, 2, 4, 8, 10]\n",
    "arr = np.array(data)\n",
    "arr *= 2\n",
    "print(arr)"
   ]
  },
  {
   "cell_type": "code",
   "execution_count": 9,
   "metadata": {},
   "outputs": [
    {
     "name": "stdout",
     "output_type": "stream",
     "text": [
      "[12 24 36]\n",
      "[False  True False]\n",
      "[False  True False]\n"
     ]
    }
   ],
   "source": [
    "a = np.array([1, 2, 3])\n",
    "b = np.array([10, 20, 30])\n",
    "\n",
    "result = 2*a +b\n",
    "print(result)\n",
    "\n",
    "result = a == 2          # result = (a == 2)\n",
    "print(result)\n",
    "\n",
    "result = (a==2) & (b>10)\n",
    "print(result)"
   ]
  },
  {
   "cell_type": "markdown",
   "metadata": {},
   "source": [
    "### 2차원 배열"
   ]
  },
  {
   "cell_type": "code",
   "execution_count": 11,
   "metadata": {},
   "outputs": [
    {
     "name": "stdout",
     "output_type": "stream",
     "text": [
      "[[0 1 2]\n",
      " [3 4 5]]\n",
      "(2, 3)\n"
     ]
    }
   ],
   "source": [
    "arr = np.array([[0, 1, 2], [3, 4, 5]])\n",
    "print(arr)\n",
    "print(arr.shape)"
   ]
  },
  {
   "cell_type": "code",
   "execution_count": 13,
   "metadata": {},
   "outputs": [
    {
     "name": "stdout",
     "output_type": "stream",
     "text": [
      "2 3\n"
     ]
    }
   ],
   "source": [
    "# 행의 갯수, 열의 갯수\n",
    "print(len(arr), len(arr[0]))"
   ]
  },
  {
   "cell_type": "markdown",
   "metadata": {},
   "source": [
    "### 3차원 배열"
   ]
  },
  {
   "cell_type": "code",
   "execution_count": 30,
   "metadata": {},
   "outputs": [
    {
     "name": "stdout",
     "output_type": "stream",
     "text": [
      "(2, 3, 4)\n",
      "2 3 4\n",
      "3\n"
     ]
    }
   ],
   "source": [
    "arr = np.array([[[1, 2, 3, 4], [4, 5, 6, 7], [4, 5, 6, 7]], \n",
    "                [[7, 8,9, 10], [7, 8, 9, 11], [10, 11, 12, 13]]])\n",
    "\n",
    "print(arr.shape)\n",
    "print(len(arr), len(arr[0]), len(arr[0][0]))\n",
    "print(arr.ndim)              #3차원"
   ]
  },
  {
   "cell_type": "code",
   "execution_count": 33,
   "metadata": {},
   "outputs": [
    {
     "name": "stdout",
     "output_type": "stream",
     "text": [
      "0\n",
      "()\n"
     ]
    }
   ],
   "source": [
    "a = np.array(1)\n",
    "print(a.ndim)\n",
    "print(a.shape)"
   ]
  },
  {
   "cell_type": "markdown",
   "metadata": {},
   "source": [
    "### 배열의 인덱싱"
   ]
  },
  {
   "cell_type": "code",
   "execution_count": 40,
   "metadata": {},
   "outputs": [
    {
     "name": "stdout",
     "output_type": "stream",
     "text": [
      "2 4\n",
      "0 1 5\n"
     ]
    }
   ],
   "source": [
    "arr = np.array([0, 1, 2, 3, 4])\n",
    "print(arr[2], arr[-1])\n",
    "\n",
    "arr = np.array([[0, 1, 2], [3, 4, 5]])\n",
    "print(arr[0,0], arr[0,1], arr[-1, -1])"
   ]
  },
  {
   "cell_type": "code",
   "execution_count": 92,
   "metadata": {},
   "outputs": [
    {
     "name": "stdout",
     "output_type": "stream",
     "text": [
      "[0 2 4 6 8]\n",
      "[0 1 0 1 0 1 0 1 0 1]\n",
      "[ True False  True False  True False  True False  True False]\n",
      "[0 1 0 1 0 1 0 1 0 1]\n",
      "[[ 1  4]\n",
      " [ 5  8]\n",
      " [ 9 12]]\n",
      "[[ 9 10 11 12]\n",
      " [ 1  2  3  4]\n",
      " [ 5  6  7  8]]\n",
      "[ 3  6  9 12 15 18]\n",
      "[ 5  9 13 17]\n",
      "[9]\n"
     ]
    }
   ],
   "source": [
    "# fancy indexing\n",
    "arr = np.array([0, 1, 2, 3, 4, 5, 6, 7, 8, 9])\n",
    "idx = np.array([True, False, True, False, True, False, True, False, True, False])\n",
    "\n",
    "print(arr[idx])\n",
    "print(arr % 2)\n",
    "print(arr % 2 == 0)\n",
    "print(arr[arr % 2])\n",
    "\n",
    "arr = np.array([[1, 2, 3, 4],\n",
    "                [5, 6, 7, 8],\n",
    "                [9, 10, 11, 12]])\n",
    "\n",
    "#[[1, 4], [5, 8], [9, 12]]\n",
    "print(arr[:, [0, -1]])\n",
    "print(arr[[2, 0, 1], :])\n",
    "\n",
    "arr = np.array([1, 2, 3, 4, 5, 6, 7, 8, 9, 10, 11, 12, 13, 14, 15, 16, 17, 18, 19, 20])\n",
    "# 이 배열에서 3의 배수를 찾아라\n",
    "# 이 배열에서 4로 나누면 1이 남는 수를 찾으라\n",
    "# 이 배열에서 3으로 나누면 나눠지고 4로 나누면 1이 남는 수를 찾아라\n",
    "idx = (arr % 3 == 0)\n",
    "print(arr[idx])\n",
    "\n",
    "idx = (arr % 4 == 1) & (arr > 4)\n",
    "print(arr[idx])\n",
    "\n",
    "idx = (arr % 3 == 0) & (arr % 4 == 1) & (arr > 4)\n",
    "print(arr[idx])"
   ]
  },
  {
   "cell_type": "markdown",
   "metadata": {},
   "source": [
    "### 배열의 슬라이싱"
   ]
  },
  {
   "cell_type": "code",
   "execution_count": 45,
   "metadata": {},
   "outputs": [
    {
     "name": "stdout",
     "output_type": "stream",
     "text": [
      "[0 1 2 3]\n",
      "[0 4]\n",
      "[5 6 7]\n"
     ]
    }
   ],
   "source": [
    "arr = np.array([[0, 1, 2, 3], [4, 5, 6, 7]])\n",
    "\n",
    "print(arr[0, :])\n",
    "print(arr[:, 0])\n",
    "print(arr[1, 1:])"
   ]
  },
  {
   "cell_type": "markdown",
   "metadata": {},
   "source": [
    "### NumPy의 자료형\n",
    "\n",
    "    b : 불리언                         b\n",
    "    i : 정수                           i8\n",
    "    u : 부호 없는 정수                  u8\n",
    "    f : 부동 소수점                     f8\n",
    "    c : 복수 부동소수점                 c16\n",
    "    O : 객체\n",
    "    S : 바이트 문자열                   S24(24글자)\n",
    "    U : 유니코드 문자열                 U24"
   ]
  },
  {
   "cell_type": "code",
   "execution_count": 62,
   "metadata": {},
   "outputs": [
    {
     "name": "stdout",
     "output_type": "stream",
     "text": [
      "int32\n",
      "float64\n",
      "float64\n"
     ]
    }
   ],
   "source": [
    "arr = np.array([1, 2, 3])\n",
    "print(arr.dtype)\n",
    "\n",
    "arr = np.array([1.0, 2.0, 3.0])\n",
    "print(arr.dtype)\n",
    "\n",
    "arr = np.array([1, 2, 3.0])\n",
    "print(arr.dtype)"
   ]
  },
  {
   "cell_type": "code",
   "execution_count": 65,
   "metadata": {},
   "outputs": [
    {
     "name": "stdout",
     "output_type": "stream",
     "text": [
      "float32\n",
      "3.0\n",
      "<U1\n",
      "12\n"
     ]
    }
   ],
   "source": [
    "arr = np.array([1, 2, 3], dtype='f')\n",
    "print(arr.dtype)\n",
    "print(arr[0] + arr[1])\n",
    "\n",
    "arr = np.array([1, 2, 3], dtype='U')\n",
    "print(arr.dtype)\n",
    "print(arr[0] + arr[1])"
   ]
  },
  {
   "cell_type": "markdown",
   "metadata": {},
   "source": [
    "### 배열 생성"
   ]
  },
  {
   "cell_type": "code",
   "execution_count": 89,
   "metadata": {},
   "outputs": [
    {
     "name": "stdout",
     "output_type": "stream",
     "text": [
      "[0. 0. 0. 0. 0.]\n",
      "[[0 0 0]\n",
      " [0 0 0]] int32\n",
      "['abcd' 'ABCD' '' '' '']\n",
      "[[[1. 1. 1. 1.]\n",
      "  [1. 1. 1. 1.]\n",
      "  [1. 1. 1. 1.]]\n",
      "\n",
      " [[1. 1. 1. 1.]\n",
      "  [1. 1. 1. 1.]\n",
      "  [1. 1. 1. 1.]]]\n",
      "[[1. 1. 1.]\n",
      " [1. 1. 1.]]\n",
      "[[4.24399158e-314 8.48798317e-314 1.06099790e-313]\n",
      " [1.48539705e-313 1.06099790e-313 1.48539705e-313]\n",
      " [1.69759663e-313 2.12199579e-313 1.69759663e-313]\n",
      " [2.33419537e-313 2.33419537e-313 2.75859453e-313]]\n",
      "[0 1 2 3 4 5 6 7 8 9]\n",
      "[ 3  5  7  9 11 13 15 17 19]\n",
      "[  0.  25.  50.  75. 100.]\n"
     ]
    }
   ],
   "source": [
    "a = np.zeros(5)\n",
    "print(a)\n",
    "\n",
    "b = np.zeros((2, 3), dtype='i')\n",
    "print(b, b.dtype)\n",
    "\n",
    "str = np.zeros(5, dtype='U4')\n",
    "str[0] = 'abcd'\n",
    "str[1] = 'ABCDF'    #dtype이 U4이므로 F가 짤린다.\n",
    "print(str)\n",
    "\n",
    "d = np.ones((2, 3, 4))\n",
    "print(d)\n",
    "\n",
    "# 크기를 명시하지 않고 다른 배열과 크기를 맞춰서 생성\n",
    "e = np.ones_like(b, dtype='f')\n",
    "print(e)\n",
    "\n",
    "f = np.empty((4, 3))\n",
    "print(f)\n",
    "\n",
    "# arange\n",
    "print(np.arange(10))\n",
    "print(np.arange(3, 21, 2))\n",
    "\n",
    "# linspace (구간 수만큼 분할)\n",
    "print(np.linspace(0, 100, 5))"
   ]
  },
  {
   "cell_type": "code",
   "execution_count": null,
   "metadata": {},
   "outputs": [],
   "source": []
  }
 ],
 "metadata": {
  "kernelspec": {
   "display_name": "Python 3",
   "language": "python",
   "name": "python3"
  },
  "language_info": {
   "codemirror_mode": {
    "name": "ipython",
    "version": 3
   },
   "file_extension": ".py",
   "mimetype": "text/x-python",
   "name": "python",
   "nbconvert_exporter": "python",
   "pygments_lexer": "ipython3",
   "version": "3.7.0"
  }
 },
 "nbformat": 4,
 "nbformat_minor": 2
}
