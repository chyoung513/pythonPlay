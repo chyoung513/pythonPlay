{
 "cells": [
  {
   "cell_type": "markdown",
   "metadata": {},
   "source": [
    "## 제어문(Control Statement)\n",
    "\n",
    "    1. 조건문\n",
    "        + if\n",
    "            1) \n",
    "                if 조건식:\n",
    "                    문장\n",
    "                    문장\n",
    "                    ...\n",
    "                    \n",
    "             2)\n",
    "                 if 조건식:\n",
    "                    문장\n",
    "                    문장\n",
    "                    ...\n",
    "                 else:\n",
    "                     문장\n",
    "                     \n",
    "             3) \n",
    "                 if 조건식:\n",
    "                    문장\n",
    "                    문장\n",
    "                 elif 조건식:\n",
    "                    문장\n",
    "                 elif 조건식:\n",
    "                    문장\n",
    "                 else\n",
    "                    문장\n",
    "                    \n",
    "             + 조건문의 중첩\n",
    "                 if 조건식:\n",
    "                     문장\n",
    "                     ...\n",
    "                     if 조건식:\n",
    "                         문장\n",
    "                     \n",
    "    2. 반복문\n",
    "        + while\n",
    "            while 조건식:\n",
    "                문장\n",
    "        + for\n",
    "            for 변수 in 데이터들의 집합\n",
    "                문장\n",
    "                ...\n",
    "             range(시작, 끝, 간격)\n",
    "             \n",
    "         + 분기문(강제 종료)\n",
    "             - break : 완전 종료\n",
    "             - continue : 일시 종료\n",
    "             \n",
    "         + 제어문의 중첩"
   ]
  },
  {
   "cell_type": "code",
   "execution_count": null,
   "metadata": {},
   "outputs": [
    {
     "name": "stdout",
     "output_type": "stream",
     "text": [
      "입력 : a\n",
      "정답\n"
     ]
    }
   ],
   "source": [
    "# 입력받은 숫자가 짝수/홀수 인지를 구별하는 프로그램 작성\n",
    "num = int(input(\"숫자 입력 : \"))\n",
    "\n",
    "if num % 2 == 0:\n",
    "    print(\"짝수 입니다.\")\n",
    "else:\n",
    "    print(\"홀수 입니다.\")\n",
    "\n",
    "# 입력받은 값이 a, b, c, d 이면 \"정답\"이라고 출력하고 아니면 \"오답\"이라고 출력\n",
    "data = input(\"입력 : \")\n",
    "\n",
    "if data=='a' or data=='b' or data=='c' or data=='d':\n",
    "    print('정답')\n",
    "else:\n",
    "    print(\"오답\")\n",
    "\n",
    "ans = ('a', 'b', 'c', 'd')\n",
    "if (input(\"입력 : \") in ans):\n",
    "    print(\"정답\")\n",
    "else:\n",
    "    print(\"오답\")\n",
    "\n",
    "data = input(\"입력 : \")\n",
    "ans = (\"a\", \"b\", \"c\", \"d\")\n",
    "\n",
    "if ans.count(data) > 0:\n",
    "    print(\"정답\")\n",
    "else:\n",
    "    print(\"오답\")\n",
    "    \n",
    "\n",
    "data = input('입력 : ')\n",
    "if ord(data) > 97 and ord(data)<=100:\n",
    "    print('정답')\n",
    "else:\n",
    "    print('오답')\n"
   ]
  },
  {
   "cell_type": "code",
   "execution_count": 5,
   "metadata": {},
   "outputs": [
    {
     "name": "stdout",
     "output_type": "stream",
     "text": [
      "65 66 97\n",
      "A B a\n"
     ]
    }
   ],
   "source": [
    "print(ord('A'), ord('B'), ord('a'))\n",
    "print(chr(65), chr(66), chr(97))"
   ]
  },
  {
   "cell_type": "code",
   "execution_count": 12,
   "metadata": {},
   "outputs": [
    {
     "name": "stdout",
     "output_type": "stream",
     "text": [
      "평균 입력 : 55\n",
      "F학점 입니다.\n"
     ]
    }
   ],
   "source": [
    "#학점 구하기\n",
    "point = int(input('평균 입력 : '))\n",
    "\n",
    "if point >= 90:\n",
    "    exp = ('A학점 입니다.')\n",
    "elif point >= 80:\n",
    "    exp = ('B학점 입니다.')\n",
    "elif point >= 70:\n",
    "    exp = ('C학점 입니다.')\n",
    "elif point >= 60:\n",
    "    exp = ('D학점 입니다.')\n",
    "else:\n",
    "    exp = ('F학점 입니다.')\n",
    "print(exp)"
   ]
  },
  {
   "cell_type": "code",
   "execution_count": 27,
   "metadata": {},
   "outputs": [
    {
     "name": "stdout",
     "output_type": "stream",
     "text": [
      "연산자 입력 : //\n",
      "첫번째 숫자 입력:1\n",
      "두번째 숫자 입력:1\n",
      "1 // 1 = 해당 연산자는 사용할 수 없습니다.\n"
     ]
    }
   ],
   "source": [
    "operation = input('연산자 입력 : ')\n",
    "num1 = int(input('첫번째 숫자 입력:'))\n",
    "num2 = int(input('두번째 숫자 입력:'))\n",
    "\n",
    "if operation == '+':\n",
    "    result = num1 + num2\n",
    "elif operation == '-':\n",
    "    result = num1 - num2\n",
    "elif operation == '*':\n",
    "    result = num1 * num2\n",
    "elif operation == '/':\n",
    "    result = num1/num2\n",
    "else:\n",
    "    result = '해당 연산자는 사용할 수 없습니다.'\n",
    "    \n",
    "print('{} {} {} = {}'.format(num1, operation, num2, result))"
   ]
  },
  {
   "cell_type": "code",
   "execution_count": 39,
   "metadata": {},
   "outputs": [
    {
     "name": "stdout",
     "output_type": "stream",
     "text": [
      "10 제일 크다\n",
      "아이디 : aaa\n",
      "패스워드 : 111\n",
      "아이디 및 비밀번호가 정확하지 않습니다!!\n"
     ]
    }
   ],
   "source": [
    "#조건문의 중첩\n",
    "a = 10\n",
    "b = 5\n",
    "c = 8\n",
    "\n",
    "if a > b:\n",
    "    if(a > c):\n",
    "        maxValue = a\n",
    "    else:\n",
    "        maxValue = c\n",
    "else:\n",
    "    if(b > c):\n",
    "        maxValue = b\n",
    "    else:\n",
    "        maxValue = c\n",
    "print('%d 제일 크다'%(maxValue))\n",
    "\n",
    "\n",
    "id = input('아이디 : ')              #user\n",
    "password = input('패스워드 : ')      #1234\n",
    "\n",
    "if id != 'user':\n",
    "    if password != '1234':\n",
    "        print('아이디 및 비밀번호가 정확하지 않습니다!!')\n",
    "    else:\n",
    "        print('아이디가 정확하지 않습니다.')\n",
    "else: \n",
    "    if password == '1234':\n",
    "        print('로그인 성공하였습니다.')\n",
    "    else:\n",
    "        print('비밀번호가 정확하지 않습니다.')\n",
    "    "
   ]
  },
  {
   "cell_type": "code",
   "execution_count": 8,
   "metadata": {},
   "outputs": [
    {
     "name": "stdout",
     "output_type": "stream",
     "text": [
      "* * * * * * * * * * \n",
      "\n",
      "-----------------------------------\n",
      "\n",
      "1부터 10까지의 합계는 ? 55\n"
     ]
    }
   ],
   "source": [
    "i = 0\n",
    "while i < 10 :\n",
    "    print(\"*\", end=' ')\n",
    "    i += 1\n",
    "print('\\n\\n-----------------------------------')\n",
    "\n",
    "\n",
    "# 1부터 10까지 합계\n",
    "num = 1\n",
    "result = 0\n",
    "while num <= 10:\n",
    "    result += num\n",
    "    num += 1\n",
    "print('\\n1부터 10까지의 합계는 ? %d'%(result))"
   ]
  },
  {
   "cell_type": "markdown",
   "metadata": {},
   "source": [
    "### 중첩 if문\n",
    "    마트에서 사과가 신선하면 사과를 사기로 한다.\n",
    "    만약 사과가 개당 1000원 미만이면 10개를 산다.\n",
    "    하지만 사과가 개당 1000원 이상이면 5개만 산다.\n",
    "    \n",
    "    사과의 상태를 입력하세요 : 신선\n",
    "    사과 1개의 가격을 입력하세요 : 1500\n",
    "    결과: 5개를 산다.\n",
    "    \n",
    "### 가위 바위 보 게임\n",
    "    (가위, 바위, 보)중에서 하나를 선택하세요 : 가위\n",
    "    사용자 : 가위\n",
    "    컴퓨터 : 보\n",
    "    결과 : 사용자가 이겼음!\n",
    "    \n",
    "### 데이터 형식 구별하기(ASCII 코드 활용)\n",
    "    데이터 입력 : 7\n",
    "    결과 : 7은 문자(숫자, 그외) 데이터 입니다."
   ]
  },
  {
   "cell_type": "code",
   "execution_count": 13,
   "metadata": {},
   "outputs": [
    {
     "name": "stdout",
     "output_type": "stream",
     "text": [
      "연도를 입력하세요2000\n",
      "윤년입니다\n"
     ]
    }
   ],
   "source": [
    "# 윤년 계산\n",
    "\n",
    "year = int(input('연도를 입력하세요'))\n",
    "\n",
    "if((year % 4 == 0 and year % 100 != 0) or year % 400 ==0):\n",
    "    print('윤년입니다')\n",
    "else:\n",
    "    print('평년입니다')"
   ]
  },
  {
   "cell_type": "code",
   "execution_count": 18,
   "metadata": {
    "scrolled": true
   },
   "outputs": [
    {
     "name": "stdout",
     "output_type": "stream",
     "text": [
      "사과의 상태를 입력하세요 : 노노\n",
      "사과의 가격을 입력하세요 : 11\n",
      ">>> 신선하지 않네..안산다.\n"
     ]
    }
   ],
   "source": [
    "fresh = input('사과의 상태를 입력하세요 : ')\n",
    "price = int(input('사과의 가격을 입력하세요 : '))\n",
    "\n",
    "if fresh == '신선':\n",
    "    if(price > 1000):\n",
    "        print('>>> 5개를 산다.')\n",
    "    else:\n",
    "        print('>>> 10개를 산다.')\n",
    "else:\n",
    "    print('>>> 신선하지 않네..안산다.')"
   ]
  },
  {
   "cell_type": "code",
   "execution_count": 12,
   "metadata": {},
   "outputs": [
    {
     "name": "stdout",
     "output_type": "stream",
     "text": [
      "(가위, 바위, 보)중에서 하나를 선택하세요 : 보\n",
      "사용자가 이겼습니다!\n"
     ]
    }
   ],
   "source": [
    "import random\n",
    "\n",
    "choice = input('(가위, 바위, 보)중에서 하나를 선택하세요 : ')\n",
    "\n",
    "items = ['가위', '바위', '보']\n",
    "num = random.randint(0, 2)\n",
    "#rand_item = random.choice(items)\n",
    "if choice == '가위':\n",
    "    choice = 0\n",
    "elif choice == '바위':\n",
    "    choice = 1\n",
    "else:\n",
    "    choice = 2\n",
    "print(num)\n",
    "        \n",
    "if(choice == num):\n",
    "    print('비겼습니다!')\n",
    "elif (choice == 0 and num == 2) or (choice == num + 1):  #(choice == 1 and num == 0) or (choice == 2 and num == 1):\n",
    "    print('사용자가 이겼음!')\n",
    "else:\n",
    "    print('컴퓨터가 이겼음!')\n",
    "\n",
    "items = ['가위', '바위', '보']\n",
    "item = random.choice(items)"
   ]
  },
  {
   "cell_type": "code",
   "execution_count": 2,
   "metadata": {},
   "outputs": [
    {
     "name": "stdout",
     "output_type": "stream",
     "text": [
      "데이터 입력 : a\n",
      "a 은 문자 데이터 입니다\n"
     ]
    }
   ],
   "source": [
    "# 데이터 형식 구별하기\n",
    "inputData = input('데이터 입력 : ')\n",
    "ascValue = ord(inputData)\n",
    "\n",
    "if ascValue > 47 and ascValue < 58:\n",
    "    print(inputData, '은 숫자 데이터 입니다')\n",
    "elif (ascValue > 64 and ascValue < 91) or (ascValue > 96 and ascValue < 123):\n",
    "    print(inputData, '은 문자 데이터 입니다')\n",
    "else:\n",
    "    print(inputData, '은 그외 데이터 입니다')"
   ]
  },
  {
   "cell_type": "code",
   "execution_count": 11,
   "metadata": {},
   "outputs": [
    {
     "name": "stdout",
     "output_type": "stream",
     "text": [
      "a b c d e f g \n",
      "--------------------------\n",
      "* * * * * * * * * * \n",
      "--------------------------\n",
      "1 2 3 4 5 6 7 8 9 10 \n",
      "--------------------------\n",
      "1 3 5 7 9 \n",
      "--------------------------\n"
     ]
    }
   ],
   "source": [
    "data = [0, 1, 2, 3, 4, 5, 6, 7, 8, 9]\n",
    "data = \"abcdefg\"\n",
    "\n",
    "for v in data:\n",
    "    print(v, end=' ')\n",
    "    \n",
    "print('\\n--------------------------')\n",
    "\n",
    "\n",
    "\n",
    "for i in range(10):         #0-9까지의 10개 숫자\n",
    "    print('*', end=' ')\n",
    "    \n",
    "print('\\n--------------------------')\n",
    "    \n",
    "\n",
    "    \n",
    "for i in  range(1, 11):\n",
    "    print(i, end=' ')\n",
    "    \n",
    "print('\\n--------------------------')\n",
    "\n",
    "\n",
    "for i in  range(1, 11, 2):\n",
    "    print(i, end=' ')\n",
    "    \n",
    "print('\\n--------------------------')"
   ]
  },
  {
   "cell_type": "code",
   "execution_count": 14,
   "metadata": {
    "scrolled": true
   },
   "outputs": [
    {
     "name": "stdout",
     "output_type": "stream",
     "text": [
      "0\n",
      "1\n",
      "2\n",
      "3\n",
      "4\n"
     ]
    }
   ],
   "source": [
    "# continue and break\n",
    "\n",
    "for i in range(10):\n",
    "    if i == 5:\n",
    "        break\n",
    "    print(i)"
   ]
  },
  {
   "cell_type": "code",
   "execution_count": 4,
   "metadata": {},
   "outputs": [
    {
     "name": "stdout",
     "output_type": "stream",
     "text": [
      "정수를 입력 : 5\n",
      "1\n",
      "2\n",
      "6\n",
      "24\n",
      "120\n",
      "결과 :  120\n"
     ]
    }
   ],
   "source": [
    "#팩토리얼 계산\n",
    "num = int(input('정수를 입력 : '))\n",
    "result = 1\n",
    "\n",
    "for i in range(1, num + 1):\n",
    "    result *= i\n",
    "\n",
    "print('결과 : ', result)\n"
   ]
  },
  {
   "cell_type": "code",
   "execution_count": 5,
   "metadata": {},
   "outputs": [
    {
     "name": "stdout",
     "output_type": "stream",
     "text": [
      "10 20 30\n",
      "결과 :  60\n"
     ]
    }
   ],
   "source": [
    "# 자리수의 합\n",
    "# 정수를 입력: 1234\n",
    "# 결과: 10\n",
    "\n",
    "a = input().split()\n",
    "\n",
    "result = 0\n",
    "for i in a:\n",
    "    result += int(i)\n",
    "\n",
    "print('결과 : ', result)"
   ]
  },
  {
   "cell_type": "code",
   "execution_count": 34,
   "metadata": {},
   "outputs": [
    {
     "name": "stdout",
     "output_type": "stream",
     "text": [
      "1부터 100까지 숫자를 맞추시오\n",
      "숫자입력 : 30\n",
      "낮음!\n",
      "숫자입력 : 45\n",
      "낮음!\n",
      "숫자입력 : 50\n",
      "낮음!\n",
      "숫자입력 : 60\n",
      "낮음!\n",
      "숫자입력 : 80\n",
      "높음!\n",
      "숫자입력 : 70\n",
      "높음!\n",
      "숫자입력 : 65\n",
      "낮음!\n",
      "숫자입력 : 68\n",
      "높음!\n",
      "숫자입력 : 67\n",
      "축하합니다!\n",
      "시도횟수 :  9\n"
     ]
    }
   ],
   "source": [
    "# 숫자 맞추기 게임\n",
    "# 1부터 100까지 숫자를 맞추시오\n",
    "# 숫자 입력 : 30\n",
    "# 낮음!\n",
    "# 숫자 입력: 75\n",
    "# 높음\n",
    "# 숫자입력: 50\n",
    "# 축하합니다!\n",
    "# 시도횟수: 15\n",
    "import random\n",
    "\n",
    "number = random.randint(1, 100)\n",
    "count = 0\n",
    "\n",
    "print('1부터 100까지 숫자를 맞추시오')\n",
    "while True:\n",
    "    inputValue = int(input('숫자입력 : '))\n",
    "    count += 1\n",
    "    if inputValue > number:\n",
    "        print('높음!')\n",
    "    elif inputValue < number:\n",
    "        print('낮음!')\n",
    "    else:\n",
    "        print('축하합니다!')\n",
    "        print('시도횟수 : ', count)\n",
    "        break;\n",
    "    "
   ]
  },
  {
   "cell_type": "code",
   "execution_count": 18,
   "metadata": {},
   "outputs": [
    {
     "name": "stdout",
     "output_type": "stream",
     "text": [
      "출력할 단의 시작 : 3\n",
      "출력할 단의 끝5\n",
      "  3 * 1 = 3\n",
      "  3 * 2 = 6\n",
      "  3 * 3 = 9\n",
      "  3 * 4 = 12\n",
      "  3 * 5 = 15\n",
      "  3 * 6 = 18\n",
      "  3 * 7 = 21\n",
      "  3 * 8 = 24\n",
      "  3 * 9 = 27\n",
      "====================\n",
      "  4 * 1 = 4\n",
      "  4 * 2 = 8\n",
      "  4 * 3 = 12\n",
      "  4 * 4 = 16\n",
      "  4 * 5 = 20\n",
      "  4 * 6 = 24\n",
      "  4 * 7 = 28\n",
      "  4 * 8 = 32\n",
      "  4 * 9 = 36\n",
      "====================\n",
      "  5 * 1 = 5\n",
      "  5 * 2 = 10\n",
      "  5 * 3 = 15\n",
      "  5 * 4 = 20\n",
      "  5 * 5 = 25\n",
      "  5 * 6 = 30\n",
      "  5 * 7 = 35\n",
      "  5 * 8 = 40\n",
      "  5 * 9 = 45\n",
      "====================\n"
     ]
    }
   ],
   "source": [
    "# 구구단\n",
    "# 출력할 단의 시작 : 3\n",
    "# 출력할 단의 끝 : 5\n",
    "# 3단\n",
    "# 3*1 = 3\n",
    "# ****\n",
    "\n",
    "start = input('출력할 단의 시작 : ')\n",
    "end = input('출력할 단의 끝')\n",
    "\n",
    "for i in range(int(start), int(end) + 1, 1):\n",
    "    for j in range(1, 10, 1):\n",
    "        print('  {} * {} = {}'.format(i, j, i*j))\n",
    "    print('====================')"
   ]
  },
  {
   "cell_type": "code",
   "execution_count": 1,
   "metadata": {},
   "outputs": [
    {
     "name": "stdout",
     "output_type": "stream",
     "text": [
      "연산자 입력 : +\n",
      "첫번째 숫자 입력:1\n",
      "두번째 숫자 입력:2\n",
      "1 + 2 = 3\n",
      "연산자 입력 : x\n",
      "첫번째 숫자 입력:1\n",
      "두번째 숫자 입력:2\n"
     ]
    }
   ],
   "source": [
    "# 전자계산기\n",
    "# 앞에서 만든 전자계산기를 반복문으로 처리, 연산자에 x를 입력하면 종료\n",
    "\n",
    "while True:\n",
    "    operation = input('연산자 입력 : ')\n",
    "    num1 = int(input('첫번째 숫자 입력:'))\n",
    "    num2 = int(input('두번째 숫자 입력:'))\n",
    "\n",
    "    if (operation == '+'):\n",
    "        result = num1 + num2\n",
    "    elif operation == '-':\n",
    "        result = num1 - num2\n",
    "    elif operation == '*':\n",
    "        result = num1 * num2\n",
    "    elif operation == '/':\n",
    "        result = num1/num2\n",
    "    elif operation == 'x':\n",
    "        print('종료되었습니다.')\n",
    "        break\n",
    "    else:\n",
    "        result = '해당 연산자는 사용할 수 없습니다.'\n",
    "\n",
    "    print('{} {} {} = {}'.format(num1, operation, num2, result))"
   ]
  },
  {
   "cell_type": "code",
   "execution_count": 5,
   "metadata": {},
   "outputs": [
    {
     "name": "stdout",
     "output_type": "stream",
     "text": [
      "1 . 합격\n",
      "2 . 합격\n",
      "3 . 불합격\n",
      "4 . 불합격\n",
      "5 . 불합격\n",
      "6 . 합격\n",
      "7 . 합격\n"
     ]
    }
   ],
   "source": [
    "# 성적 계산\n",
    "# points = [90, 78, 25, 44, 60, 72, 88]\n",
    "# 위 점수를 이용하여 값이 70점 이상이면 합격 이라고 출력되고 그렇지 않으면 불합격이라고 출력 (학생번호 자동증가)\n",
    "  #1. 합격\n",
    "  #2. 불합격\n",
    "\n",
    "points = [90, 78, 25, 44, 60, 72, 88]\n",
    "\n",
    "for idx in range(len(points)):\n",
    "    if points[idx] > 70:\n",
    "        print(idx + 1 , '. 합격')\n",
    "    else: \n",
    "        print(idx + 1, '. 불합격')"
   ]
  },
  {
   "cell_type": "code",
   "execution_count": 6,
   "metadata": {},
   "outputs": [
    {
     "name": "stdout",
     "output_type": "stream",
     "text": [
      "5개의 숫자를 입력해주세요6 4 9 0 1\n",
      "['6', '4', '9', '0', '1']\n",
      "0 9\n"
     ]
    }
   ],
   "source": [
    "# 숫자를 입력받아 짝수의 합과 홀수의 합을 구하시오.(단 0을 입력하면 종료)\n",
    "# 숫자 : 0\n",
    "# 결과 짝수 ?, 홀수?\n",
    "\n",
    "\n",
    "#임입의 숫자 5개를 연속으로 입력받아 그 중에서 가장 큰 수와 작은 수를 출력\n",
    "    # (임의로 입력되는 수는 튜플이나 리스트에 추가한 후에 처리하는 방식으로 작성)\n",
    "    \n",
    "numbers = input('5개의 숫자를 입력해주세요').split(' ')\n",
    "print(numbers)\n",
    "\n",
    "maxValue = 0\n",
    "minValue = int(numbers[0])\n",
    "\n",
    "for i in numbers:\n",
    "    current = int(i)\n",
    "    if current > maxValue:\n",
    "        maxValue = current\n",
    "    elif current < minValue:\n",
    "        minValue = current\n",
    "\n",
    "print(minValue, maxValue)"
   ]
  },
  {
   "cell_type": "code",
   "execution_count": 31,
   "metadata": {},
   "outputs": [
    {
     "name": "stdout",
     "output_type": "stream",
     "text": [
      "**********\n",
      "**********\n",
      "**********\n",
      "\n",
      "* \n",
      "* * \n",
      "* * * \n",
      "* * * * \n",
      "* * * * * \n",
      "        * \n",
      "      * * * \n",
      "    * * * * * \n",
      "  * * * * * * * \n",
      "* * * * * * * * * \n"
     ]
    }
   ],
   "source": [
    "for i in range(3):\n",
    "    for j in range(10):\n",
    "        print('*', end = '')\n",
    "    print()\n",
    "    \n",
    "    \n",
    "for i in range(6):\n",
    "    for j in range(i):\n",
    "        print('*', end = ' ')\n",
    "    print()\n",
    "    \n",
    "\n",
    "for i in range(5):\n",
    "    for j in range(4 - i, 0, -1):\n",
    "        print(' ', end = ' ')\n",
    "    for j in range(2 * i + 1):\n",
    "        print('*', end = ' ')\n",
    "    print()"
   ]
  },
  {
   "cell_type": "code",
   "execution_count": null,
   "metadata": {},
   "outputs": [],
   "source": []
  }
 ],
 "metadata": {
  "kernelspec": {
   "display_name": "Python 3",
   "language": "python",
   "name": "python3"
  },
  "language_info": {
   "codemirror_mode": {
    "name": "ipython",
    "version": 3
   },
   "file_extension": ".py",
   "mimetype": "text/x-python",
   "name": "python",
   "nbconvert_exporter": "python",
   "pygments_lexer": "ipython3",
   "version": "3.7.0"
  }
 },
 "nbformat": 4,
 "nbformat_minor": 2
}
