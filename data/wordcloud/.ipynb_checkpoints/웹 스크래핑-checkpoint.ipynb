{
 "cells": [
  {
   "cell_type": "markdown",
   "metadata": {},
   "source": [
    "### 정규 표현식\n",
    "    메타 문자 : . ^ * + ? \\ | () {} []\n",
    "    [] : 문자 클래스 ( 한 개의 문자와 매치 )\n",
    "        [abc] / [a-c] : a or b or c       [여기서 사용된 하이픈(-)는 두 문자 사이의 범위를 의미 (FROM - TO)]\n",
    "        [a-zA-Z] : 모든 알파벳\n",
    "        [^0-9] : 숫자를 제외               [메타문자 ^는 not의미]\n",
    "        \n",
    "        \n",
    "        \\d : 모든 숫자, [0-9]와 동일\n",
    "        \\D : 숫자 제외, [^0-9]와 동일\n",
    "        \\w : 모든 데이터(숫자 + 알파벳 문자) : [0-9a-zA-Z]\n",
    "        \\W : 문자 및 숫자가 아닌 문자, [^0-9a-zA-Z]와 동일\n",
    "        \\s : whitespace, [ \\t\\n\\r\\f\\v]와 동일\n",
    "        \\S : whitespace 문자가 아닌 것\n",
    "        \n",
    "    Dot(.) : \\n을 제외한 모든 문자와 매칭 ( 한 개의 문자와 매칭)\n",
    "        a.b : aab, abb, a5b\n",
    "        a[.]b : a.b                      [모든 문자가 아닌 문자 Dot(.) 그대로를 의미]\n",
    "    \n",
    "    \n",
    "\n",
    "    반복(*) : *앞에 있는 문자가 0개 이상 반복\n",
    "        ab*c : ac, abc, abbc...\n",
    "        \n",
    "        \n",
    "    반복(+) : 1번 이상 반복\n",
    "        ab+c : abc, abbc, abbbc, ...\n",
    "        \n",
    "    \n",
    "    ? : ?앞에 있는 문자가 0 혹은 1번 사용되어 매치\n",
    "        ab?c : ac, abc\n",
    "        \n",
    "        \n",
    "    {m, n} : 반복횟수 지정 가능하고 m에서 n회 반복\n",
    "        ab{3}c: abbbc\n",
    "        ab{1, 3}c : abc, abbc, abbbc  (1~3회 반복)      \n",
    "        ab{1,}c\n",
    "        * -> {0,}와 동일\n",
    "        + -> {1,}와 동일\n",
    "        ? -> {0, 1}와 동일\n",
    "        \n",
    "        \n",
    "    | : or\n",
    "        a|b|c : a, b, c, ab, abc\n",
    "    \n",
    "    ^, $ : 문자열의 처음과 끝\n",
    "        ^a : a, abc, abcd...\n",
    "        a$ : a, aa, baa...\n",
    "        \n",
    "        \n",
    "### 연습 사이트 : http://regexr.com, http:/pythex.org\n",
    "\n",
    "\n",
    "### re라는 모듈이 필요하다.\n",
    "    compile(), search(), match(), split(), findall, sub()"
   ]
  },
  {
   "cell_type": "code",
   "execution_count": 2,
   "metadata": {},
   "outputs": [
    {
     "name": "stdout",
     "output_type": "stream",
     "text": [
      "None\n"
     ]
    }
   ],
   "source": [
    "import re\n",
    "\n",
    "r = re.compile('a.c')\n",
    "r.search('abc')\n",
    "\n",
    "r = re.compile('ab?c')\n",
    "print(r.search('abbc'))"
   ]
  },
  {
   "cell_type": "code",
   "execution_count": 8,
   "metadata": {},
   "outputs": [
    {
     "name": "stdout",
     "output_type": "stream",
     "text": [
      "<re.Match object; span=(3, 6), match='abc'>\n",
      "None\n"
     ]
    }
   ],
   "source": [
    "\n",
    "r = re.compile('ab.')\n",
    "\n",
    "print(r.search('kkkabc'))\n",
    "print(r.match('kkkabc'))\n",
    "print(r.match('abckkk'))"
   ]
  },
  {
   "cell_type": "code",
   "execution_count": 4,
   "metadata": {},
   "outputs": [
    {
     "data": {
      "text/plain": [
       "['m0502']"
      ]
     },
     "execution_count": 4,
     "metadata": {},
     "output_type": "execute_result"
    }
   ],
   "source": [
    "# findall()\n",
    "\n",
    "text = '''\n",
    "    이름 : 김철수\n",
    "    전화번호 : 010-0000-1000\n",
    "    나이 : 20\n",
    "    성별 : 남\n",
    "'''\n",
    "\n",
    "re.findall('[0-9]+', text)\n",
    "re.findall('\\d+', text)\n",
    "\n",
    "text = 'My id number is kim0502'\n",
    "\n",
    "re.findall('[a-z]+', text)\n",
    "\n",
    "re.findall('m\\d+', text)"
   ]
  },
  {
   "cell_type": "code",
   "execution_count": 9,
   "metadata": {},
   "outputs": [
    {
     "data": {
      "text/plain": [
       "'파이썬은 멋진 언어입니다.'"
      ]
     },
     "execution_count": 9,
     "metadata": {},
     "output_type": "execute_result"
    }
   ],
   "source": [
    "text='''\n",
    "    Regular expression : A regular expression, regex or regexp[1] (sometimes called a rational expression)[2][3] is, \n",
    "    in theoretical computer science and formal language theory, a sequence of characters that define a search pattern.\n",
    "'''\n",
    "\n",
    "re.sub('[^a-zA-Z]', ' ', text)\n",
    "\n",
    "str = '파이썬은 멋진 언어입니다.'\n",
    "str.replace('멋진', '범용')\n",
    "re.sub('범용', '멋진', str)"
   ]
  },
  {
   "cell_type": "code",
   "execution_count": 17,
   "metadata": {},
   "outputs": [
    {
     "name": "stdout",
     "output_type": "stream",
     "text": [
      "잘못된 이메일 형식입니다\n"
     ]
    }
   ],
   "source": [
    "# 비밀번호는 6-12자를 입력\n",
    "# 숫자와 영문자로만 구성\n",
    "# 대문자와 소문자가 섞여있어야 한다.\n",
    "\n",
    "def pwd_check(pwd):\n",
    "    exp = re.findall('[a-zA-Z0-9]{6, 12}', pwd)\n",
    "    \n",
    "    if len(exp) == 0:\n",
    "        print('잘못된 이메일 형식입니다')\n",
    "    else:\n",
    "        print('로그인 성공')\n",
    "        \n",
    "pwd_check('aaa')"
   ]
  },
  {
   "cell_type": "code",
   "execution_count": 16,
   "metadata": {},
   "outputs": [
    {
     "name": "stdout",
     "output_type": "stream",
     "text": [
      "잘못된 이메일 형식입니다\n",
      "잘못된 이메일 형식입니다\n"
     ]
    }
   ],
   "source": [
    "def email_check(email):\n",
    "    exp = re.findall('^[a-z0-9]{2, }@[a-z0-9]\\.[a-z]', email)\n",
    "    \n",
    "    if len(exp) == 0:\n",
    "        print('잘못된 이메일 형식입니다')\n",
    "    else:\n",
    "        print('로그인 성공')\n",
    "        \n",
    "        \n",
    "email_check('kimmm@gmail.com')\n",
    "email_check('gmail.com')"
   ]
  },
  {
   "cell_type": "markdown",
   "metadata": {},
   "source": [
    "### XML, JSON\n",
    "    XML(Extension Markup Language)\n",
    "        1. 특징\n",
    "            1) 메타 언어: GML -> SGML -> XML\n",
    "            2) 데이터를 위한 언어\n",
    "            3) 데이터베이스 용도\n",
    "            4) 데이터 표준화 : 이 기종 시스템간의 정보교환, 웹서비스, 유비쿼터스, 사물인터넷 등등\n",
    "        \n",
    "       2. 문법 \n",
    "           1) XML (.xml)\n",
    "           2) DTD(.dtd): XML을 작성하기 위한 설계문서 \n",
    "           3) XML Schema(.xsd): XML작성을 위한 설계문서\n",
    "           4) XSL(.xsl, xslt): XML문서에 스타일을 입혀주는 언어\n",
    "           \n",
    "      \n",
    "    3. 결과 문서의 종류\n",
    "        1) Well-Formed XML Document(잘 짜여진 문서)\n",
    "        2) Valid XML Document(유효한 문서)"
   ]
  },
  {
   "cell_type": "code",
   "execution_count": null,
   "metadata": {},
   "outputs": [],
   "source": []
  }
 ],
 "metadata": {
  "kernelspec": {
   "display_name": "Python 3",
   "language": "python",
   "name": "python3"
  },
  "language_info": {
   "codemirror_mode": {
    "name": "ipython",
    "version": 3
   },
   "file_extension": ".py",
   "mimetype": "text/x-python",
   "name": "python",
   "nbconvert_exporter": "python",
   "pygments_lexer": "ipython3",
   "version": "3.7.0"
  }
 },
 "nbformat": 4,
 "nbformat_minor": 2
}
